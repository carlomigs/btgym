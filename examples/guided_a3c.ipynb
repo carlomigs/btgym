{
  "nbformat": 4,
  "nbformat_minor": 0,
  "metadata": {
    "kernelspec": {
      "display_name": "Python 3",
      "language": "python",
      "name": "python3"
    },
    "language_info": {
      "codemirror_mode": {
        "name": "ipython",
        "version": 3
      },
      "file_extension": ".py",
      "mimetype": "text/x-python",
      "name": "python",
      "nbconvert_exporter": "python",
      "pygments_lexer": "ipython3",
      "version": "3.6.0"
    },
    "colab": {
      "name": "guided_a3c.ipynb",
      "version": "0.3.2",
      "provenance": [],
      "include_colab_link": true
    }
  },
  "cells": [
    {
      "cell_type": "markdown",
      "metadata": {
        "id": "view-in-github",
        "colab_type": "text"
      },
      "source": [
        "<a href=\"https://colab.research.google.com/github/carlomigs/btgym/blob/master/examples/guided_a3c.ipynb\" target=\"_parent\"><img src=\"https://colab.research.google.com/assets/colab-badge.svg\" alt=\"Open In Colab\"/></a>"
      ]
    },
    {
      "cell_type": "code",
      "metadata": {
        "id": "Ab66838hJRwF",
        "colab_type": "code",
        "colab": {
          "base_uri": "https://localhost:8080/",
          "height": 153
        },
        "outputId": "b31db605-80ce-4344-f131-a8d152d71b37"
      },
      "source": [
        "!git clone https://github.com/Kismuz/btgym.git"
      ],
      "execution_count": 2,
      "outputs": [
        {
          "output_type": "stream",
          "text": [
            "Cloning into 'btgym'...\n",
            "remote: Enumerating objects: 4, done.\u001b[K\n",
            "remote: Counting objects: 100% (4/4), done.\u001b[K\n",
            "remote: Compressing objects: 100% (4/4), done.\u001b[K\n",
            "remote: Total 6981 (delta 0), reused 0 (delta 0), pack-reused 6977\u001b[K\n",
            "Receiving objects: 100% (6981/6981), 126.68 MiB | 22.64 MiB/s, done.\n",
            "Resolving deltas: 100% (5168/5168), done.\n",
            "Checking out files: 100% (346/346), done.\n"
          ],
          "name": "stdout"
        }
      ]
    },
    {
      "cell_type": "code",
      "metadata": {
        "id": "b-y1F3VrKiqt",
        "colab_type": "code",
        "colab": {
          "base_uri": "https://localhost:8080/",
          "height": 34
        },
        "outputId": "32d79bd4-934f-41d7-fed6-80a85d0e5646"
      },
      "source": [
        "%cd btgym"
      ],
      "execution_count": 3,
      "outputs": [
        {
          "output_type": "stream",
          "text": [
            "/content/btgym\n"
          ],
          "name": "stdout"
        }
      ]
    },
    {
      "cell_type": "code",
      "metadata": {
        "id": "tgpUPIqfK0dH",
        "colab_type": "code",
        "colab": {
          "base_uri": "https://localhost:8080/",
          "height": 34
        },
        "outputId": "ce59c6a6-ed76-4b78-81a2-e39117b8e171"
      },
      "source": [
        "!ls"
      ],
      "execution_count": 5,
      "outputs": [
        {
          "output_type": "stream",
          "text": [
            "btgym  docs  examples  img  LICENSE  README.md\tsetup.py  tests\n"
          ],
          "name": "stdout"
        }
      ]
    },
    {
      "cell_type": "code",
      "metadata": {
        "id": "ll9MYFOIKvKe",
        "colab_type": "code",
        "colab": {
          "base_uri": "https://localhost:8080/",
          "height": 1000
        },
        "outputId": "2294d7a6-45d4-4b9e-9be0-f4f81a229b46"
      },
      "source": [
        "pip install -e '/content/btgym'"
      ],
      "execution_count": 6,
      "outputs": [
        {
          "output_type": "stream",
          "text": [
            "Obtaining file:///content/btgym\n",
            "Requirement already satisfied: tensorflow>=1.5 in /usr/local/lib/python3.6/dist-packages (from btgym==0.0.8) (1.14.0)\n",
            "Requirement already satisfied: opencv-python in /usr/local/lib/python3.6/dist-packages (from btgym==0.0.8) (3.4.5.20)\n",
            "Requirement already satisfied: gym[atari] in /usr/local/lib/python3.6/dist-packages (from btgym==0.0.8) (0.10.11)\n",
            "Collecting backtrader (from btgym==0.0.8)\n",
            "\u001b[?25l  Downloading https://files.pythonhosted.org/packages/a6/35/6ed3fbb771712d457011680970f3f0bcf38bfbc4cedd447d62705a6523c8/backtrader-1.9.74.123-py2.py3-none-any.whl (411kB)\n",
            "\u001b[K     |████████████████████████████████| 419kB 9.6MB/s \n",
            "\u001b[?25hRequirement already satisfied: pyzmq in /usr/local/lib/python3.6/dist-packages (from btgym==0.0.8) (17.0.0)\n",
            "Collecting matplotlib<=2.0.2 (from btgym==0.0.8)\n",
            "\u001b[?25l  Downloading https://files.pythonhosted.org/packages/60/d4/6b6d8a7a6bc69a1602ab372f6fc6e88ef88a8a96398a1a25edbac636295b/matplotlib-2.0.2-cp36-cp36m-manylinux1_x86_64.whl (14.6MB)\n",
            "\u001b[K     |████████████████████████████████| 14.6MB 37.7MB/s \n",
            "\u001b[?25hRequirement already satisfied: pillow in /usr/local/lib/python3.6/dist-packages (from btgym==0.0.8) (4.3.0)\n",
            "Requirement already satisfied: numpy in /usr/local/lib/python3.6/dist-packages (from btgym==0.0.8) (1.16.5)\n",
            "Requirement already satisfied: scipy in /usr/local/lib/python3.6/dist-packages (from btgym==0.0.8) (1.3.1)\n",
            "Requirement already satisfied: pandas in /usr/local/lib/python3.6/dist-packages (from btgym==0.0.8) (0.24.2)\n",
            "Requirement already satisfied: ipython in /usr/local/lib/python3.6/dist-packages (from btgym==0.0.8) (5.5.0)\n",
            "Requirement already satisfied: psutil in /usr/local/lib/python3.6/dist-packages (from btgym==0.0.8) (5.4.8)\n",
            "Collecting logbook (from btgym==0.0.8)\n",
            "\u001b[?25l  Downloading https://files.pythonhosted.org/packages/6b/3f/f4e6693791efacc1282852fba5392da0649b19416b37422c5489f79a52ea/Logbook-1.5.2.tar.gz (85kB)\n",
            "\u001b[K     |████████████████████████████████| 92kB 31.0MB/s \n",
            "\u001b[?25hRequirement already satisfied: gast>=0.2.0 in /usr/local/lib/python3.6/dist-packages (from tensorflow>=1.5->btgym==0.0.8) (0.2.2)\n",
            "Requirement already satisfied: google-pasta>=0.1.6 in /usr/local/lib/python3.6/dist-packages (from tensorflow>=1.5->btgym==0.0.8) (0.1.7)\n",
            "Requirement already satisfied: tensorflow-estimator<1.15.0rc0,>=1.14.0rc0 in /usr/local/lib/python3.6/dist-packages (from tensorflow>=1.5->btgym==0.0.8) (1.14.0)\n",
            "Requirement already satisfied: wheel>=0.26 in /usr/local/lib/python3.6/dist-packages (from tensorflow>=1.5->btgym==0.0.8) (0.33.6)\n",
            "Requirement already satisfied: six>=1.10.0 in /usr/local/lib/python3.6/dist-packages (from tensorflow>=1.5->btgym==0.0.8) (1.12.0)\n",
            "Requirement already satisfied: keras-preprocessing>=1.0.5 in /usr/local/lib/python3.6/dist-packages (from tensorflow>=1.5->btgym==0.0.8) (1.1.0)\n",
            "Requirement already satisfied: protobuf>=3.6.1 in /usr/local/lib/python3.6/dist-packages (from tensorflow>=1.5->btgym==0.0.8) (3.7.1)\n",
            "Requirement already satisfied: keras-applications>=1.0.6 in /usr/local/lib/python3.6/dist-packages (from tensorflow>=1.5->btgym==0.0.8) (1.0.8)\n",
            "Requirement already satisfied: absl-py>=0.7.0 in /usr/local/lib/python3.6/dist-packages (from tensorflow>=1.5->btgym==0.0.8) (0.8.0)\n",
            "Requirement already satisfied: tensorboard<1.15.0,>=1.14.0 in /usr/local/lib/python3.6/dist-packages (from tensorflow>=1.5->btgym==0.0.8) (1.14.0)\n",
            "Requirement already satisfied: termcolor>=1.1.0 in /usr/local/lib/python3.6/dist-packages (from tensorflow>=1.5->btgym==0.0.8) (1.1.0)\n",
            "Requirement already satisfied: wrapt>=1.11.1 in /usr/local/lib/python3.6/dist-packages (from tensorflow>=1.5->btgym==0.0.8) (1.11.2)\n",
            "Requirement already satisfied: grpcio>=1.8.6 in /usr/local/lib/python3.6/dist-packages (from tensorflow>=1.5->btgym==0.0.8) (1.15.0)\n",
            "Requirement already satisfied: astor>=0.6.0 in /usr/local/lib/python3.6/dist-packages (from tensorflow>=1.5->btgym==0.0.8) (0.8.0)\n",
            "Requirement already satisfied: pyglet>=1.2.0 in /usr/local/lib/python3.6/dist-packages (from gym[atari]->btgym==0.0.8) (1.4.2)\n",
            "Requirement already satisfied: requests>=2.0 in /usr/local/lib/python3.6/dist-packages (from gym[atari]->btgym==0.0.8) (2.21.0)\n",
            "Requirement already satisfied: PyOpenGL; extra == \"atari\" in /usr/local/lib/python3.6/dist-packages (from gym[atari]->btgym==0.0.8) (3.1.0)\n",
            "Requirement already satisfied: atari-py>=0.1.4; extra == \"atari\" in /usr/local/lib/python3.6/dist-packages (from gym[atari]->btgym==0.0.8) (0.1.15)\n",
            "Requirement already satisfied: python-dateutil in /usr/local/lib/python3.6/dist-packages (from matplotlib<=2.0.2->btgym==0.0.8) (2.5.3)\n",
            "Requirement already satisfied: pytz in /usr/local/lib/python3.6/dist-packages (from matplotlib<=2.0.2->btgym==0.0.8) (2018.9)\n",
            "Requirement already satisfied: pyparsing!=2.0.0,!=2.0.4,!=2.1.2,!=2.1.6,>=1.5.6 in /usr/local/lib/python3.6/dist-packages (from matplotlib<=2.0.2->btgym==0.0.8) (2.4.2)\n",
            "Requirement already satisfied: cycler>=0.10 in /usr/local/lib/python3.6/dist-packages (from matplotlib<=2.0.2->btgym==0.0.8) (0.10.0)\n",
            "Requirement already satisfied: olefile in /usr/local/lib/python3.6/dist-packages (from pillow->btgym==0.0.8) (0.46)\n",
            "Requirement already satisfied: decorator in /usr/local/lib/python3.6/dist-packages (from ipython->btgym==0.0.8) (4.4.0)\n",
            "Requirement already satisfied: prompt-toolkit<2.0.0,>=1.0.4 in /usr/local/lib/python3.6/dist-packages (from ipython->btgym==0.0.8) (1.0.16)\n",
            "Requirement already satisfied: pickleshare in /usr/local/lib/python3.6/dist-packages (from ipython->btgym==0.0.8) (0.7.5)\n",
            "Requirement already satisfied: simplegeneric>0.8 in /usr/local/lib/python3.6/dist-packages (from ipython->btgym==0.0.8) (0.8.1)\n",
            "Requirement already satisfied: traitlets>=4.2 in /usr/local/lib/python3.6/dist-packages (from ipython->btgym==0.0.8) (4.3.2)\n",
            "Requirement already satisfied: pygments in /usr/local/lib/python3.6/dist-packages (from ipython->btgym==0.0.8) (2.1.3)\n",
            "Requirement already satisfied: pexpect; sys_platform != \"win32\" in /usr/local/lib/python3.6/dist-packages (from ipython->btgym==0.0.8) (4.7.0)\n",
            "Requirement already satisfied: setuptools>=18.5 in /usr/local/lib/python3.6/dist-packages (from ipython->btgym==0.0.8) (41.2.0)\n",
            "Requirement already satisfied: h5py in /usr/local/lib/python3.6/dist-packages (from keras-applications>=1.0.6->tensorflow>=1.5->btgym==0.0.8) (2.8.0)\n",
            "Requirement already satisfied: markdown>=2.6.8 in /usr/local/lib/python3.6/dist-packages (from tensorboard<1.15.0,>=1.14.0->tensorflow>=1.5->btgym==0.0.8) (3.1.1)\n",
            "Requirement already satisfied: werkzeug>=0.11.15 in /usr/local/lib/python3.6/dist-packages (from tensorboard<1.15.0,>=1.14.0->tensorflow>=1.5->btgym==0.0.8) (0.15.5)\n",
            "Requirement already satisfied: future in /usr/local/lib/python3.6/dist-packages (from pyglet>=1.2.0->gym[atari]->btgym==0.0.8) (0.16.0)\n",
            "Requirement already satisfied: certifi>=2017.4.17 in /usr/local/lib/python3.6/dist-packages (from requests>=2.0->gym[atari]->btgym==0.0.8) (2019.6.16)\n",
            "Requirement already satisfied: urllib3<1.25,>=1.21.1 in /usr/local/lib/python3.6/dist-packages (from requests>=2.0->gym[atari]->btgym==0.0.8) (1.24.3)\n",
            "Requirement already satisfied: chardet<3.1.0,>=3.0.2 in /usr/local/lib/python3.6/dist-packages (from requests>=2.0->gym[atari]->btgym==0.0.8) (3.0.4)\n",
            "Requirement already satisfied: idna<2.9,>=2.5 in /usr/local/lib/python3.6/dist-packages (from requests>=2.0->gym[atari]->btgym==0.0.8) (2.8)\n",
            "Requirement already satisfied: wcwidth in /usr/local/lib/python3.6/dist-packages (from prompt-toolkit<2.0.0,>=1.0.4->ipython->btgym==0.0.8) (0.1.7)\n",
            "Requirement already satisfied: ipython-genutils in /usr/local/lib/python3.6/dist-packages (from traitlets>=4.2->ipython->btgym==0.0.8) (0.2.0)\n",
            "Requirement already satisfied: ptyprocess>=0.5 in /usr/local/lib/python3.6/dist-packages (from pexpect; sys_platform != \"win32\"->ipython->btgym==0.0.8) (0.6.0)\n",
            "Building wheels for collected packages: logbook\n",
            "  Building wheel for logbook (setup.py) ... \u001b[?25l\u001b[?25hdone\n",
            "  Created wheel for logbook: filename=Logbook-1.5.2-cp36-cp36m-linux_x86_64.whl size=66346 sha256=d3f7c729ac07ed8e2d6b2d9db1e1e8c671d21f11fd25a6c20630262746eb93c5\n",
            "  Stored in directory: /root/.cache/pip/wheels/c7/d6/22/9f6bd2884a48b215fdd9cbfa78671b51f4470dfd3d14ef701a\n",
            "Successfully built logbook\n",
            "\u001b[31mERROR: plotnine 0.5.1 has requirement matplotlib>=3.0.0, but you'll have matplotlib 2.0.2 which is incompatible.\u001b[0m\n",
            "\u001b[31mERROR: albumentations 0.1.12 has requirement imgaug<0.2.7,>=0.2.5, but you'll have imgaug 0.2.9 which is incompatible.\u001b[0m\n",
            "Installing collected packages: backtrader, matplotlib, logbook, btgym\n",
            "  Found existing installation: matplotlib 3.0.3\n",
            "    Uninstalling matplotlib-3.0.3:\n",
            "      Successfully uninstalled matplotlib-3.0.3\n",
            "  Running setup.py develop for btgym\n",
            "Successfully installed backtrader-1.9.74.123 btgym logbook-1.5.2 matplotlib-2.0.2\n"
          ],
          "name": "stdout"
        },
        {
          "output_type": "display_data",
          "data": {
            "application/vnd.colab-display-data+json": {
              "pip_warning": {
                "packages": [
                  "matplotlib",
                  "mpl_toolkits"
                ]
              }
            }
          },
          "metadata": {
            "tags": []
          }
        }
      ]
    },
    {
      "cell_type": "markdown",
      "metadata": {
        "id": "4uBGn_MLI9o3",
        "colab_type": "text"
      },
      "source": [
        "### Guided policy search \n",
        "\n",
        "_Speeding up training by applying auxillary imitation loss on expert actions:_\n",
        "\n",
        "`L_gps = lamda_a3c * L_a3c + guided_lambda * L_gps`\n",
        "\n",
        "##### Intuition:\n",
        "- This implementation is loosely reffered as 'guided policy search' after algorithm described in paper by S. Levine and P. Abbeel [Learning Neural Network Policies with Guided PolicySearch under Unknown Dynamics](https://people.eecs.berkeley.edu/~svlevine/papers/mfcgps.pdf) in a sense that we utilize same idea of fitting 'local' (here - single episode) oracle for environment with unknown dynamics and use actions demonstrated by it to optimize trajectory distribution for training agent; also  connected to s RLfD ideas.\n",
        "\n",
        "- Using expert actions is proven way to speed up training by exploring more relevant state-action space regiones;\n",
        "\n",
        "- It can also lead to suboptimal policies when demonstrated actions are suboptimal (learnt model is irrelevant) and agent is strictly entingled   to expert trajectories (cannot explore and act on it's own);\n",
        "- So it is essential to find ballanced degree of agent dependensy on advisor;\n",
        "\n",
        "##### Papers:\n",
        "- Levine et al., [Learning Neural Network Policies with Guided PolicySearch under Unknown Dynamics](https://people.eecs.berkeley.edu/~svlevine/papers/mfcgps.pdf)\n",
        "\n",
        "- Brys et al., [Reinforcement Learning from Demonstration through Shaping](https://www.ijcai.org/Proceedings/15/Papers/472.pdf)\n",
        "\n",
        "- Wiewiora et al., [Principled Methods for Advising Reinforcement Learning Agents](http://citeseerx.ist.psu.edu/viewdoc/download?doi=10.1.1.14.6412&rep=rep1&type=pdf)\n",
        "\n",
        "- Abbeel, Ng, [Exploration and Apprenticeship Learning in Reinforcement Learning](https://icml.cc/Conferences/2005/proceedings/papers/001_Exploration_AbbeelNg.pdf)\n",
        "\n",
        "##### Implementation details:\n",
        "\n",
        "- For each train episode expert has access to entire data range but does not provides complete state-action trajectories. Instead it fits simple local model of `external` part of the environment which provides  `advises` in form of categorical probability distribution in action space. Morover, imitation loss is defined in actions subspace, namely over 'buy' and 'sell' actions. Such relaxed conditions seems to work better than strictly following [possibly suboptimal] expert trajectory.\n",
        "\n",
        "- Note that expert advices conditioned on external state observations only, i.e. price dynamics; expert doesn't account current inner agent state (opened position, acoount value etc.). It can be said it acts similar to real-life financial advisor'...now it probably time to buy'; it does not bear any responsibility for advices given so it is on agent's side to deside follow or not. The degree of agent 'independency' from oracle is regulated by `guided_lambda` hyperparamter. When set to zero - oracle advises completely ignored. When set >> 1 it can be clearly seen (with sine wave data for example) than agent performace is degraded due to strong dependency from oracle; reasonable values for this setup seems to lie  within 0.1 .. 1.0 range;"
      ]
    },
    {
      "cell_type": "markdown",
      "metadata": {
        "id": "CwLwHxstI9o6",
        "colab_type": "text"
      },
      "source": [
        "##### Expert estimated actions example:\n",
        "- currently oracle implements extremely simple strategy: it finds local peaks along entire given episode data, filters it by time and value and estimate signals by reversing position after every up- or down- peak. Than smoothes by convolving signals with gaussian kernel, normalises and outputs discrete prob. distribution over action space.\n",
        "\n",
        "![Signal](https://github.com/carlomigs/btgym/blob/master/examples/img/oracle_signal.png?raw=1)\n",
        "\n",
        "##### Expert actions distribution:\n",
        "\n",
        "- It seems that using MSE error on action subsets leaves agent better degree of freedom than cross-entropy loss over entire action space; though it should be highly dependend on quality of advised actions.\n",
        "\n",
        "![A.Distr](https://github.com/carlomigs/btgym/blob/master/examples/img/oracle_p_distr.png?raw=1)\n",
        "\n",
        "##### Example of distribution over actions learnt by agent *:\n",
        "*sample, irrelevant to image above\n",
        "![AgentA.Distr](https://github.com/carlomigs/btgym/blob/master/examples/img/learnt_a_p_d.png?raw=1)"
      ]
    },
    {
      "cell_type": "markdown",
      "metadata": {
        "id": "G6toUARiI9o7",
        "colab_type": "text"
      },
      "source": [
        "### Addition for those who like to look: extended summaries.\n",
        "- Tensorboard summaries (see images tab) are updated and now include:\n",
        "\n",
        "##### - action probabilities for an episode (see above);\n",
        "\n",
        "##### - value function for an episode:\n",
        "![Vfn](https://github.com/carlomigs/btgym/blob/master/examples/img/v_fn_ep.png?raw=1)\n",
        "\n",
        "##### - visualisations of hidden state of LSTM blocks:\n",
        "- 256 cells along vertical axis, environment timesteps - along horisontal one; it can be clearly seen how rnn state gets reset when deal is closed.\n",
        "![LSTM_state](https://github.com/carlomigs/btgym/blob/master/examples/img/lstm_h_ep.png?raw=1)"
      ]
    },
    {
      "cell_type": "markdown",
      "metadata": {
        "id": "S-8LQ-X_I9o8",
        "colab_type": "text"
      },
      "source": [
        "#### TODO:\n",
        "- 1. Relax agent dependency on advised actions by annelaing `guided_lambda` in the course of training;\n",
        "- 2. Implemnet potential-based approach to advising as in Wiewiora et al."
      ]
    },
    {
      "cell_type": "code",
      "metadata": {
        "id": "wCWh7tznI9o-",
        "colab_type": "code",
        "outputId": "7ea4dd5f-8b87-4220-a936-9ab78e4ea4de",
        "colab": {
          "base_uri": "https://localhost:8080/",
          "height": 139
        }
      },
      "source": [
        "import warnings\n",
        "warnings.filterwarnings(\"ignore\") # suppress h5py deprecation warning\n",
        "\n",
        "import os\n",
        "import backtrader as bt\n",
        "import numpy as np\n",
        "from gym import spaces\n",
        "\n",
        "from btgym import BTgymEnv, BTgymDataset, BTgymRandomDataDomain\n",
        "from btgym.algorithms import Launcher\n",
        "\n",
        "from btgym.research.gps.aac import GuidedAAC\n",
        "from btgym.research.gps.policy import GuidedPolicy_0_0\n",
        "from btgym.research.gps.strategy import GuidedStrategy_0_0, ExpertObserver\n"
      ],
      "execution_count": 1,
      "outputs": [
        {
          "output_type": "stream",
          "text": [
            "WARNING:tensorflow:From /content/btgym/btgym/algorithms/worker.py:19: The name tf.logging.set_verbosity is deprecated. Please use tf.compat.v1.logging.set_verbosity instead.\n",
            "\n",
            "WARNING:tensorflow:From /content/btgym/btgym/algorithms/worker.py:19: The name tf.logging.INFO is deprecated. Please use tf.compat.v1.logging.INFO instead.\n",
            "\n",
            "WARNING:tensorflow:From /content/btgym/btgym/algorithms/worker.py:22: The name tf.train.Saver is deprecated. Please use tf.compat.v1.train.Saver instead.\n",
            "\n"
          ],
          "name": "stdout"
        }
      ]
    },
    {
      "cell_type": "code",
      "metadata": {
        "id": "la0gwNUSI9pC",
        "colab_type": "code",
        "colab": {}
      },
      "source": [
        "# Set backtesting engine and parameters:\n",
        "\n",
        "engine = bt.Cerebro()\n",
        "\n",
        "engine.addstrategy(\n",
        "    GuidedStrategy_0_0,\n",
        "    drawdown_call=10, # max % to loose, in percent of initial cash\n",
        "    target_call=10,  # max % to win, same\n",
        "    skip_frame=10,\n",
        "    gamma=0.99,\n",
        "    state_ext_scale=np.linspace(4e3, 1e3, num=6),\n",
        "    reward_scale=7,\n",
        "    expert_config=  # see btgym.research.gps.oracle.Oracle class for details\n",
        "        {\n",
        "            'time_threshold': 5,\n",
        "            'pips_threshold': 10, \n",
        "            'pips_scale': 1e-4,\n",
        "            'kernel_size': 10,\n",
        "            'kernel_stddev': 1,\n",
        "        },\n",
        ")\n",
        "\n",
        "# Expert actions observer:\n",
        "engine.addobserver(ExpertObserver)\n",
        "\n",
        "# Set leveraged account:\n",
        "engine.broker.setcash(2000)\n",
        "engine.broker.setcommission(commission=0.0001, leverage=10.0) # commisssion to imitate spread\n",
        "engine.addsizer(bt.sizers.SizerFix, stake=5000)  \n",
        "\n",
        "# Data: uncomment to get up to six month of 1 minute bars:\n",
        "data_m1_6_month = [\n",
        "    './data/DAT_ASCII_EURUSD_M1_201701.csv',\n",
        "    './data/DAT_ASCII_EURUSD_M1_201702.csv',\n",
        "    './data/DAT_ASCII_EURUSD_M1_201703.csv',\n",
        "    #'./data/DAT_ASCII_EURUSD_M1_201704.csv',\n",
        "    #'./data/DAT_ASCII_EURUSD_M1_201705.csv',\n",
        "    #'./data/DAT_ASCII_EURUSD_M1_201706.csv',\n",
        "]\n",
        "\n",
        "# Uncomment single choice of source file:\n",
        "dataset = BTgymRandomDataDomain(  \n",
        "    #filename=data_m1_6_month,\n",
        "    #filename='./data/DAT_ASCII_EURUSD_M1_2016.csv', # full year\n",
        "    filename='./data/test_sine_1min_period256_delta0002.csv',  # simple sine \n",
        "\n",
        "    trial_params=dict(\n",
        "        start_weekdays={0, 1, 2, 3, 4, 5, 6},\n",
        "        sample_duration={'days': 3, 'hours': 0, 'minutes': 0},\n",
        "        start_00=False,\n",
        "        time_gap={'days': 1, 'hours': 10},\n",
        "        test_period={'days': 0, 'hours': 0, 'minutes': 0},\n",
        "    ),\n",
        "    episode_params=dict(\n",
        "        start_weekdays={0, 1, 2, 3, 4, 5, 6},\n",
        "        sample_duration={'days': 1, 'hours': 23, 'minutes': 50},\n",
        "        start_00=False,\n",
        "        time_gap={'days': 1, 'hours': 0},\n",
        "    ),\n",
        ")\n",
        "\n",
        "env_config = dict(\n",
        "    class_ref=BTgymEnv, \n",
        "    kwargs=dict(\n",
        "        dataset=dataset,\n",
        "        engine=engine,\n",
        "        render_modes=['episode', 'human', 'external', 'internal'],\n",
        "        render_state_as_image=True,\n",
        "        render_ylabel='OHL_diff. / Internals',\n",
        "        render_size_episode=(12,8),\n",
        "        render_size_human=(9, 4),\n",
        "        render_size_state=(11, 3),\n",
        "        render_dpi=75,\n",
        "        port=5000,\n",
        "        data_port=4999,\n",
        "        connect_timeout=90,\n",
        "        verbose=0,\n",
        "    )\n",
        ")\n",
        "\n",
        "cluster_config = dict(\n",
        "    host='127.0.0.1',\n",
        "    port=12230,\n",
        "    num_workers=4,  # Set according CPU's available or so\n",
        "    num_ps=1,\n",
        "    num_envs=1,\n",
        "    log_dir=os.path.expanduser('~/tmp/gps'),\n",
        ")\n",
        "\n",
        "policy_config = dict(\n",
        "    class_ref=GuidedPolicy_0_0,\n",
        "    kwargs={\n",
        "        'lstm_layers': (256, 256),\n",
        "        'lstm_2_init_period': 50,\n",
        "        'conv_2d_layer_config': (\n",
        "             (32, (3, 1), (2, 1)),\n",
        "             (32, (3, 1), (2, 1)),\n",
        "             (64, (3, 1), (2, 1)),\n",
        "             (64, (3, 1), (2, 1))\n",
        "         ),\n",
        "        'encode_internal_state': False,\n",
        "    }\n",
        ")\n",
        "\n",
        "trainer_config = dict(\n",
        "    class_ref=GuidedAAC,\n",
        "    kwargs=dict(\n",
        "        opt_learn_rate=1e-4, # scalar or random log-uniform \n",
        "        opt_end_learn_rate=1e-5,\n",
        "        opt_decay_steps=20*10**6,\n",
        "        model_gamma=0.99,\n",
        "        model_gae_lambda=1.0,\n",
        "        model_beta=0.01, # Entropy reg, scalar or random log-uniform\n",
        "        aac_lambda=1.0, # main a3c loss weight\n",
        "        guided_lambda=1.0,  # Imitation loss weight\n",
        "        guided_decay_steps=10*10**6,  # annealing guided_lambda to zero in 10M steps\n",
        "        rollout_length=20,\n",
        "        time_flat=True,\n",
        "        use_value_replay=False,\n",
        "        episode_train_test_cycle=[1,0],\n",
        "        model_summary_freq=100,\n",
        "        episode_summary_freq=5,\n",
        "        env_render_freq=5,\n",
        "    )\n",
        ")"
      ],
      "execution_count": 0,
      "outputs": []
    },
    {
      "cell_type": "code",
      "metadata": {
        "scrolled": false,
        "id": "ZxCkeeETI9pH",
        "colab_type": "code",
        "colab": {
          "base_uri": "https://localhost:8080/",
          "height": 1000
        },
        "outputId": "6a606b70-98d0-4d53-e2fb-83dfb61d08bd"
      },
      "source": [
        "launcher = Launcher(\n",
        "    cluster_config=cluster_config,\n",
        "    env_config=env_config,\n",
        "    trainer_config=trainer_config,\n",
        "    policy_config=policy_config,\n",
        "    test_mode=False,\n",
        "    max_env_steps=100*10**6,\n",
        "    root_random_seed=0,\n",
        "    purge_previous=1,  # ask to override previously saved model and logs\n",
        "    verbose=0,\n",
        ")\n",
        "\n",
        "# Train it:\n",
        "launcher.run()"
      ],
      "execution_count": 3,
      "outputs": [
        {
          "output_type": "stream",
          "text": [
            "[2019-09-09 23:06:58.134763] NOTICE: LauncherShell: </root/tmp/gps> created.\n",
            "WARNING:tensorflow:From /content/btgym/btgym/algorithms/worker.py:191: The name tf.reset_default_graph is deprecated. Please use tf.compat.v1.reset_default_graph instead.\n",
            "\n",
            "WARNING:tensorflow:From /content/btgym/btgym/algorithms/worker.py:191: The name tf.reset_default_graph is deprecated. Please use tf.compat.v1.reset_default_graph instead.\n",
            "WARNING:tensorflow:From /content/btgym/btgym/algorithms/worker.py:201: The name tf.train.Server is deprecated. Please use tf.distribute.Server instead.\n",
            "\n",
            "\n",
            "WARNING:tensorflow:From /content/btgym/btgym/algorithms/worker.py:205: The name tf.ConfigProto is deprecated. Please use tf.compat.v1.ConfigProto instead.\n",
            "\n",
            "WARNING:tensorflow:From /content/btgym/btgym/algorithms/worker.py:212: The name tf.train.Server is deprecated. Please use tf.distribute.Server instead.\n",
            "\n",
            "WARNING:tensorflow:From /content/btgym/btgym/algorithms/worker.py:216: The name tf.ConfigProto is deprecated. Please use tf.compat.v1.ConfigProto instead.\n",
            "\n",
            "[2019-09-09 23:07:00.513264] ERROR: RndDataDomain_0: Data file <./data/test_sine_1min_period256_delta0002.csv> not specified / not found / parser error.\n"
          ],
          "name": "stdout"
        },
        {
          "output_type": "stream",
          "text": [
            "Process BTgymDataFeedServer-2:1:\n",
            "Traceback (most recent call last):\n",
            "  File \"/content/btgym/btgym/dataserver.py\", line 125, in run\n",
            "    assert not self.dataset.data.empty\n",
            "AttributeError: 'NoneType' object has no attribute 'empty'\n",
            "\n",
            "During handling of the above exception, another exception occurred:\n",
            "\n",
            "Traceback (most recent call last):\n",
            "  File \"/content/btgym/btgym/datafeed/base.py\", line 438, in read_csv\n",
            "    assert filename and os.path.isfile(filename)\n",
            "AssertionError\n",
            "\n",
            "During handling of the above exception, another exception occurred:\n",
            "\n",
            "Traceback (most recent call last):\n",
            "  File \"/usr/lib/python3.6/multiprocessing/process.py\", line 258, in _bootstrap\n",
            "    self.run()\n",
            "  File \"/content/btgym/btgym/dataserver.py\", line 128, in run\n",
            "    self.dataset.read_csv()\n",
            "  File \"/content/btgym/btgym/datafeed/base.py\", line 462, in read_csv\n",
            "    raise FileNotFoundError(msg)\n",
            "FileNotFoundError: Data file <./data/test_sine_1min_period256_delta0002.csv> not specified / not found / parser error.\n"
          ],
          "name": "stderr"
        },
        {
          "output_type": "stream",
          "text": [
            "WARNING:tensorflow:From /content/btgym/btgym/algorithms/worker.py:191: The name tf.reset_default_graph is deprecated. Please use tf.compat.v1.reset_default_graph instead.\n",
            "\n",
            "WARNING:tensorflow:From /content/btgym/btgym/algorithms/worker.py:191: The name tf.reset_default_graph is deprecated. Please use tf.compat.v1.reset_default_graph instead.\n",
            "WARNING:tensorflow:From /content/btgym/btgym/algorithms/worker.py:212: The name tf.train.Server is deprecated. Please use tf.distribute.Server instead.\n",
            "\n",
            "\n",
            "WARNING:tensorflow:From /content/btgym/btgym/algorithms/worker.py:212: The name tf.train.Server is deprecated. Please use tf.distribute.Server instead.\n",
            "\n",
            "WARNING:tensorflow:From /content/btgym/btgym/algorithms/worker.py:216: The name tf.ConfigProto is deprecated. Please use tf.compat.v1.ConfigProto instead.\n",
            "WARNING:tensorflow:From /content/btgym/btgym/algorithms/worker.py:216: The name tf.ConfigProto is deprecated. Please use tf.compat.v1.ConfigProto instead.\n",
            "\n",
            "\n",
            "WARNING:tensorflow:From /content/btgym/btgym/algorithms/worker.py:191: The name tf.reset_default_graph is deprecated. Please use tf.compat.v1.reset_default_graph instead.\n",
            "\n",
            "WARNING:tensorflow:From /content/btgym/btgym/algorithms/worker.py:212: The name tf.train.Server is deprecated. Please use tf.distribute.Server instead.\n",
            "\n",
            "WARNING:tensorflow:From /content/btgym/btgym/algorithms/worker.py:216: The name tf.ConfigProto is deprecated. Please use tf.compat.v1.ConfigProto instead.\n",
            "\n",
            "\n",
            "********************************************************************************************\n",
            "**  Press `Ctrl-C` or jupyter:[Kernel]->[Interrupt] to stop training and close launcher.  **\n",
            "********************************************************************************************\n",
            "\n",
            "[2019-09-09 23:08:31.562676] ERROR: BTgymAPIshell_0: Data_server unreachable with status: <receive_failed_due_to_connect_timeout>.\n",
            "[2019-09-09 23:08:31.565404] ERROR: Worker_0: failed to make BTGym environment at port_5000.\n",
            "Traceback (most recent call last):\n",
            "  File \"/content/btgym/btgym/algorithms/worker.py\", line 271, in run\n",
            "    **env_kwargs\n",
            "  File \"/content/btgym/btgym/envs/base.py\", line 300, in __init__\n",
            "    self._start_data_server()\n",
            "  File \"/content/btgym/btgym/envs/base.py\", line 976, in _start_data_server\n",
            "    raise ConnectionError(msg)\n",
            "ConnectionError: Data_server unreachable with status: <receive_failed_due_to_connect_timeout>.\n",
            "[2019-09-09 23:08:31.571208] ERROR: Worker_0: Data_server unreachable with status: <receive_failed_due_to_connect_timeout>.\n",
            "Traceback (most recent call last):\n",
            "  File \"/content/btgym/btgym/algorithms/worker.py\", line 283, in run\n",
            "    raise e\n",
            "  File \"/content/btgym/btgym/algorithms/worker.py\", line 271, in run\n",
            "    **env_kwargs\n",
            "  File \"/content/btgym/btgym/envs/base.py\", line 300, in __init__\n",
            "    self._start_data_server()\n",
            "  File \"/content/btgym/btgym/envs/base.py\", line 976, in _start_data_server\n",
            "    raise ConnectionError(msg)\n",
            "ConnectionError: Data_server unreachable with status: <receive_failed_due_to_connect_timeout>.\n"
          ],
          "name": "stdout"
        },
        {
          "output_type": "stream",
          "text": [
            "Process Worker-2:\n",
            "Traceback (most recent call last):\n",
            "  File \"/usr/lib/python3.6/multiprocessing/process.py\", line 258, in _bootstrap\n",
            "    self.run()\n",
            "  File \"/content/btgym/btgym/algorithms/worker.py\", line 403, in run\n",
            "    raise e\n",
            "  File \"/content/btgym/btgym/algorithms/worker.py\", line 283, in run\n",
            "    raise e\n",
            "  File \"/content/btgym/btgym/algorithms/worker.py\", line 271, in run\n",
            "    **env_kwargs\n",
            "  File \"/content/btgym/btgym/envs/base.py\", line 300, in __init__\n",
            "    self._start_data_server()\n",
            "  File \"/content/btgym/btgym/envs/base.py\", line 976, in _start_data_server\n",
            "    raise ConnectionError(msg)\n",
            "ConnectionError: Data_server unreachable with status: <receive_failed_due_to_connect_timeout>.\n"
          ],
          "name": "stderr"
        },
        {
          "output_type": "stream",
          "text": [
            "[2019-09-09 23:08:35.326890] ERROR: BTgymAPIshell_1: Data_server unreachable with status: <receive_failed_due_to_connect_timeout>.\n",
            "[2019-09-09 23:08:35.330757] ERROR: Worker_1: failed to make BTGym environment at port_5001.\n",
            "Traceback (most recent call last):\n",
            "  File \"/content/btgym/btgym/algorithms/worker.py\", line 271, in run\n",
            "    **env_kwargs\n",
            "  File \"/content/btgym/btgym/envs/base.py\", line 300, in __init__\n",
            "    self._start_data_server()\n",
            "  File \"/content/btgym/btgym/envs/base.py\", line 976, in _start_data_server\n",
            "    raise ConnectionError(msg)\n",
            "ConnectionError: Data_server unreachable with status: <receive_failed_due_to_connect_timeout>.\n",
            "[2019-09-09 23:08:35.334626] ERROR: BTgymAPIshell_2: Data_server unreachable with status: <receive_failed_due_to_connect_timeout>.\n",
            "[2019-09-09 23:08:35.336656] ERROR: Worker_2: failed to make BTGym environment at port_5002.\n",
            "Traceback (most recent call last):\n",
            "  File \"/content/btgym/btgym/algorithms/worker.py\", line 271, in run\n",
            "    **env_kwargs\n",
            "  File \"/content/btgym/btgym/envs/base.py\", line 300, in __init__\n",
            "    self._start_data_server()\n",
            "  File \"/content/btgym/btgym/envs/base.py\", line 976, in _start_data_server\n",
            "    raise ConnectionError(msg)\n",
            "ConnectionError: Data_server unreachable with status: <receive_failed_due_to_connect_timeout>.\n",
            "[2019-09-09 23:08:35.340247] ERROR: Worker_2: Data_server unreachable with status: <receive_failed_due_to_connect_timeout>.\n",
            "Traceback (most recent call last):\n",
            "  File \"/content/btgym/btgym/algorithms/worker.py\", line 283, in run\n",
            "    raise e\n",
            "  File \"/content/btgym/btgym/algorithms/worker.py\", line 271, in run\n",
            "    **env_kwargs\n",
            "  File \"/content/btgym/btgym/envs/base.py\", line 300, in __init__\n",
            "    self._start_data_server()\n",
            "  File \"/content/btgym/btgym/envs/base.py\", line 976, in _start_data_server\n",
            "    raise ConnectionError(msg)\n",
            "ConnectionError: Data_server unreachable with status: <receive_failed_due_to_connect_timeout>.\n"
          ],
          "name": "stdout"
        },
        {
          "output_type": "stream",
          "text": [
            "Process Worker-4:\n",
            "Traceback (most recent call last):\n",
            "  File \"/usr/lib/python3.6/multiprocessing/process.py\", line 258, in _bootstrap\n",
            "    self.run()\n",
            "  File \"/content/btgym/btgym/algorithms/worker.py\", line 403, in run\n",
            "    raise e\n",
            "  File \"/content/btgym/btgym/algorithms/worker.py\", line 283, in run\n",
            "    raise e\n",
            "  File \"/content/btgym/btgym/algorithms/worker.py\", line 271, in run\n",
            "    **env_kwargs\n",
            "  File \"/content/btgym/btgym/envs/base.py\", line 300, in __init__\n",
            "    self._start_data_server()\n",
            "  File \"/content/btgym/btgym/envs/base.py\", line 976, in _start_data_server\n",
            "    raise ConnectionError(msg)\n",
            "ConnectionError: Data_server unreachable with status: <receive_failed_due_to_connect_timeout>.\n"
          ],
          "name": "stderr"
        },
        {
          "output_type": "stream",
          "text": [
            "[2019-09-09 23:08:35.354119] ERROR: Worker_1: Data_server unreachable with status: <receive_failed_due_to_connect_timeout>.\n",
            "Traceback (most recent call last):\n",
            "  File \"/content/btgym/btgym/algorithms/worker.py\", line 283, in run\n",
            "    raise e\n",
            "  File \"/content/btgym/btgym/algorithms/worker.py\", line 271, in run\n",
            "    **env_kwargs\n",
            "  File \"/content/btgym/btgym/envs/base.py\", line 300, in __init__\n",
            "    self._start_data_server()\n",
            "  File \"/content/btgym/btgym/envs/base.py\", line 976, in _start_data_server\n",
            "    raise ConnectionError(msg)\n",
            "ConnectionError: Data_server unreachable with status: <receive_failed_due_to_connect_timeout>.\n"
          ],
          "name": "stdout"
        },
        {
          "output_type": "stream",
          "text": [
            "Process Worker-3:\n",
            "Traceback (most recent call last):\n",
            "  File \"/usr/lib/python3.6/multiprocessing/process.py\", line 258, in _bootstrap\n",
            "    self.run()\n",
            "  File \"/content/btgym/btgym/algorithms/worker.py\", line 403, in run\n",
            "    raise e\n",
            "  File \"/content/btgym/btgym/algorithms/worker.py\", line 283, in run\n",
            "    raise e\n",
            "  File \"/content/btgym/btgym/algorithms/worker.py\", line 271, in run\n",
            "    **env_kwargs\n",
            "  File \"/content/btgym/btgym/envs/base.py\", line 300, in __init__\n",
            "    self._start_data_server()\n",
            "  File \"/content/btgym/btgym/envs/base.py\", line 976, in _start_data_server\n",
            "    raise ConnectionError(msg)\n",
            "ConnectionError: Data_server unreachable with status: <receive_failed_due_to_connect_timeout>.\n"
          ],
          "name": "stderr"
        },
        {
          "output_type": "stream",
          "text": [
            "[2019-09-09 23:08:35.441349] ERROR: BTgymAPIshell_3: Data_server unreachable with status: <receive_failed_due_to_connect_timeout>.\n",
            "[2019-09-09 23:08:35.445089] ERROR: Worker_3: failed to make BTGym environment at port_5003.\n",
            "Traceback (most recent call last):\n",
            "  File \"/content/btgym/btgym/algorithms/worker.py\", line 271, in run\n",
            "    **env_kwargs\n",
            "  File \"/content/btgym/btgym/envs/base.py\", line 300, in __init__\n",
            "    self._start_data_server()\n",
            "  File \"/content/btgym/btgym/envs/base.py\", line 976, in _start_data_server\n",
            "    raise ConnectionError(msg)\n",
            "ConnectionError: Data_server unreachable with status: <receive_failed_due_to_connect_timeout>.\n",
            "[2019-09-09 23:08:35.449026] ERROR: Worker_3: Data_server unreachable with status: <receive_failed_due_to_connect_timeout>.\n",
            "Traceback (most recent call last):\n",
            "  File \"/content/btgym/btgym/algorithms/worker.py\", line 283, in run\n",
            "    raise e\n",
            "  File \"/content/btgym/btgym/algorithms/worker.py\", line 271, in run\n",
            "    **env_kwargs\n",
            "  File \"/content/btgym/btgym/envs/base.py\", line 300, in __init__\n",
            "    self._start_data_server()\n",
            "  File \"/content/btgym/btgym/envs/base.py\", line 976, in _start_data_server\n",
            "    raise ConnectionError(msg)\n",
            "ConnectionError: Data_server unreachable with status: <receive_failed_due_to_connect_timeout>.\n"
          ],
          "name": "stdout"
        },
        {
          "output_type": "stream",
          "text": [
            "Process Worker-5:\n",
            "Traceback (most recent call last):\n",
            "  File \"/usr/lib/python3.6/multiprocessing/process.py\", line 258, in _bootstrap\n",
            "    self.run()\n",
            "  File \"/content/btgym/btgym/algorithms/worker.py\", line 403, in run\n",
            "    raise e\n",
            "  File \"/content/btgym/btgym/algorithms/worker.py\", line 283, in run\n",
            "    raise e\n",
            "  File \"/content/btgym/btgym/algorithms/worker.py\", line 271, in run\n",
            "    **env_kwargs\n",
            "  File \"/content/btgym/btgym/envs/base.py\", line 300, in __init__\n",
            "    self._start_data_server()\n",
            "  File \"/content/btgym/btgym/envs/base.py\", line 976, in _start_data_server\n",
            "    raise ConnectionError(msg)\n",
            "ConnectionError: Data_server unreachable with status: <receive_failed_due_to_connect_timeout>.\n"
          ],
          "name": "stderr"
        },
        {
          "output_type": "stream",
          "text": [
            "[2019-09-09 23:42:04.337446] NOTICE: LauncherShell: worker_1 has joined.\n",
            "[2019-09-09 23:42:04.344156] NOTICE: LauncherShell: worker_2 has joined.\n",
            "[2019-09-09 23:42:04.346155] NOTICE: LauncherShell: worker_3 has joined.\n",
            "[2019-09-09 23:42:04.351656] NOTICE: LauncherShell: chief_worker_0 has joined.\n",
            "[2019-09-09 23:42:04.353815] NOTICE: LauncherShell: parameter_server_0 has joined.\n",
            "[2019-09-09 23:42:04.354731] NOTICE: LauncherShell: Launcher closed.\n"
          ],
          "name": "stdout"
        }
      ]
    },
    {
      "cell_type": "code",
      "metadata": {
        "id": "mgeN9v-uI9pL",
        "colab_type": "code",
        "colab": {}
      },
      "source": [
        ""
      ],
      "execution_count": 0,
      "outputs": []
    }
  ]
}