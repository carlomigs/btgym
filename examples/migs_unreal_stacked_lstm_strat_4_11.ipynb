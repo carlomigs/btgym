{
  "nbformat": 4,
  "nbformat_minor": 0,
  "metadata": {
    "kernelspec": {
      "name": "python3",
      "display_name": "Python 3"
    },
    "colab": {
      "name": "unreal_stacked_lstm_strat_4_11.ipynb",
      "provenance": [],
      "include_colab_link": true
    },
    "accelerator": "GPU"
  },
  "cells": [
    {
      "cell_type": "markdown",
      "metadata": {
        "id": "view-in-github",
        "colab_type": "text"
      },
      "source": [
        "<a href=\"https://colab.research.google.com/github/carlomigs/btgym/blob/master/examples/migs_unreal_stacked_lstm_strat_4_11.ipynb\" target=\"_parent\"><img src=\"https://colab.research.google.com/assets/colab-badge.svg\" alt=\"Open In Colab\"/></a>"
      ]
    },
    {
      "cell_type": "code",
      "metadata": {
        "scrolled": false,
        "id": "ngMAfFuBpxSa",
        "colab_type": "code",
        "colab": {}
      },
      "source": [
        "!git clone https://github.com/Kismuz/btgym.git\n",
        "%cd btgym\n",
        "!pip install -e ."
      ],
      "execution_count": 0,
      "outputs": []
    },
    {
      "cell_type": "code",
      "metadata": {
        "id": "swPLOt41KiFn",
        "colab_type": "code",
        "colab": {}
      },
      "source": [
        "!pip install tensorflow==1.5\n",
        "!pip install backtrader"
      ],
      "execution_count": 0,
      "outputs": []
    },
    {
      "cell_type": "code",
      "metadata": {
        "id": "7mr3x1RJtKik",
        "colab_type": "code",
        "colab": {
          "base_uri": "https://localhost:8080/",
          "height": 63
        },
        "outputId": "7f629b24-a467-46d0-cd72-5c7be87051e8"
      },
      "source": [
        "import warnings\n",
        "warnings.filterwarnings(\"ignore\") # suppress h5py deprecation warning\n",
        "\n",
        "import os\n",
        "import backtrader as bt\n",
        "import numpy as np\n",
        "\n",
        "from btgym import BTgymEnv, BTgymDataset\n",
        "from btgym.strategy.observers import Reward, Position, NormPnL\n",
        "from btgym.algorithms import Launcher, Unreal, AacStackedRL2Policy\n",
        "from btgym.research.strategy_gen_4 import DevStrat_4_11"
      ],
      "execution_count": 1,
      "outputs": [
        {
          "output_type": "display_data",
          "data": {
            "text/html": [
              "<p style=\"color: red;\">\n",
              "The default version of TensorFlow in Colab will switch to TensorFlow 2.x on the 27th of March, 2020.<br>\n",
              "We recommend you <a href=\"https://www.tensorflow.org/guide/migrate\" target=\"_blank\">upgrade</a> now\n",
              "or ensure your notebook will continue to use TensorFlow 1.x via the <code>%tensorflow_version 1.x</code> magic:\n",
              "<a href=\"https://colab.research.google.com/notebooks/tensorflow_version.ipynb\" target=\"_blank\">more info</a>.</p>\n"
            ],
            "text/plain": [
              "<IPython.core.display.HTML object>"
            ]
          },
          "metadata": {
            "tags": []
          }
        }
      ]
    },
    {
      "cell_type": "markdown",
      "metadata": {
        "id": "fqlBTrqupxSl",
        "colab_type": "text"
      },
      "source": [
        "### Stacked LSTM Agent usage example.\n",
        "\n",
        "Based on NAV_A3C+D from [\"LEARNING TO NAVIGATE IN COMPLEX ENVIRONMENTS\"](https://arxiv.org/pdf/1611.03673.pdf) paper by Mirowski at al.;\n",
        "\n",
        "Modifications to original paper arhcitecture:\n",
        "- splitted Policy/Value outputs: Policy is taken off first LSTM layer, Value - off the second;\n",
        "- LSTM state initialisation: first RNN layer context (policy) is initialised on every episode start, while second   (Value) is reset either on begining of every Trial (future work) or or every N-constant episodes (60 for this     example), motivated by RL^2 approach by Duan et al., \n",
        "  [\"FAST REINFORCEMENT LEARNING VIA SLOW REINFORCEMENT LEARNING\"](https://arxiv.org/pdf/1611.02779.pdf);\n",
        "- inner/external observation state state split: external (market) is encoded via conolution layers and fed to       first LSTM layer, inner (broker) state is fed into second LSTM layer, can optionally be encoded via separate       convolution block (doesnt seem to improve much though);\n",
        "- optional Value Replay losss (`Unreal` feature) improves sample efficiency, but is computationally expensive;\n",
        "\n",
        "Other details:\n",
        "- All convolution and LSTM layers are layer-normalized, see \n",
        "  [\"Layer Normalisation\"](https://arxiv.org/abs/1607.06450) paper by Jimmy Ba at al.;\n",
        "  \n",
        "- Upd 2.02.18: linear layers are Noisy-Net ones, see: [Noisy Networks for Exploration] (https://arxiv.org/abs/1706.10295) paper by Fortunato at al.; policy output is centered using layer normalisation;\n",
        " added linearly decayed state scaling;\n",
        "\n",
        "- A3C option `time_flat` is ON by default, improves training stability, reduces computation costs, see \n",
        "  [Base_AAC class Note](https://kismuz.github.io/btgym/btgym.algorithms.html#module-btgym.algorithms.aac) for       details;\n",
        "  \n",
        "Diagram: https://kismuz.github.io/btgym/_images/a3c_stacked_lstm_agent.png\n",
        "\n",
        "**NOTE:**\n",
        "Currently it takes ~20M env.steps to fit 6-month 1min bars data set. Much faster on smaller ones."
      ]
    },
    {
      "cell_type": "code",
      "metadata": {
        "id": "MGVg3aR4pxSm",
        "colab_type": "code",
        "colab": {
          "base_uri": "https://localhost:8080/",
          "height": 39
        },
        "outputId": "540170c4-6639-47f2-c2a5-608e8bff139d"
      },
      "source": [
        "# Set backtesting engine parameters:\n",
        "\n",
        "MyCerebro = bt.Cerebro()\n",
        "\n",
        "# Define strategy and broker account parameters:\n",
        "MyCerebro.addstrategy(\n",
        "    DevStrat_4_11,\n",
        "    start_cash=2000,  # initial broker cash\n",
        "    commission=0.0001,  # commisssion to imitate spread\n",
        "    leverage=10.0,\n",
        "    order_size=2000,  # fixed stake, mind leverage\n",
        "    drawdown_call=10, # max % to loose, in percent of initial cash\n",
        "    target_call=10,  # max % to win, same\n",
        "    skip_frame=10,\n",
        "    gamma=0.99,\n",
        "    reward_scale=7, # gardient`s nitrox, touch with care!\n",
        "    state_ext_scale = np.linspace(3e3, 1e3, num=5)\n",
        ")\n",
        "# Visualisations for reward, position and PnL dynamics:\n",
        "MyCerebro.addobserver(Reward)\n",
        "MyCerebro.addobserver(Position)\n",
        "MyCerebro.addobserver(NormPnL)\n",
        "\n",
        "# Data: uncomment to get up to six month of 1 minute bars:\n",
        "data_m1_6_month = [\n",
        "    'btgym/examples/data/DAT_ASCII_EURUSD_M1_201701.csv',\n",
        "    'btgym/examples/data/DAT_ASCII_EURUSD_M1_201702.csv',\n",
        "    'btgym/examples/data/DAT_ASCII_EURUSD_M1_201703.csv',\n",
        "    'btgym/examples/data/DAT_ASCII_EURUSD_M1_201704.csv',\n",
        "    'btgym/examples/data/DAT_ASCII_EURUSD_M1_201705.csv',\n",
        "    'btgym/examples/data/DAT_ASCII_EURUSD_M1_201706.csv',\n",
        "]\n",
        "\n",
        "# Uncomment single choice:\n",
        "MyDataset = BTgymDataset(\n",
        "    #filename=data_m1_6_month,\n",
        "    filename='btgym/examples/data/test_sine_1min_period256_delta0002.csv',  # simple sine \n",
        "    start_weekdays={0, 1, 2, 3, 4, 5, 6},\n",
        "    episode_duration={'days': 1, 'hours': 23, 'minutes': 40}, # note: 2day-long episode\n",
        "    start_00=False,\n",
        "    time_gap={'hours': 10},\n",
        ")\n",
        "\n",
        "env_config = dict(\n",
        "    class_ref=BTgymEnv, \n",
        "    kwargs=dict(\n",
        "        dataset=MyDataset,\n",
        "        engine=MyCerebro,\n",
        "        render_modes=['episode', 'human', 'internal', ], #'external'],\n",
        "        render_state_as_image=True,\n",
        "        render_ylabel='OHL_diff. / Internals',\n",
        "        render_size_episode=(12,8),\n",
        "        render_size_human=(9, 4),\n",
        "        render_size_state=(11, 3),\n",
        "        render_dpi=75,\n",
        "        port=5000,\n",
        "        data_port=4999,\n",
        "        connect_timeout=90,\n",
        "        verbose=0,\n",
        "    )\n",
        ")\n",
        "\n",
        "cluster_config = dict(\n",
        "    host='127.0.0.1',\n",
        "    port=12230,\n",
        "    num_workers=4,  # set according CPU's available or so\n",
        "    num_ps=1,\n",
        "    num_envs=1,\n",
        "    log_dir=os.path.expanduser('~/tmp/test_4_11'),  # current checkpoints and summaries are here\n",
        "    initial_ckpt_dir=os.path.expanduser('~/tmp/pre_trained_model/test_4_11'),  # load pre-trained model, if chekpoint found  \n",
        ")\n",
        "\n",
        "policy_config = dict(\n",
        "    class_ref=AacStackedRL2Policy,\n",
        "    kwargs={\n",
        "        'lstm_layers': (256, 256),\n",
        "        'lstm_2_init_period': 60,\n",
        "    }\n",
        ")\n",
        "\n",
        "trainer_config = dict(\n",
        "    class_ref=Unreal,\n",
        "    kwargs=dict(\n",
        "        opt_learn_rate=[1e-4, 1e-4], # random log-uniform \n",
        "        opt_end_learn_rate=1e-5,\n",
        "        opt_decay_steps=50*10**6,\n",
        "        model_gamma=0.99,\n",
        "        model_gae_lambda=1.0,\n",
        "        model_beta=0.05, # entropy reg\n",
        "        rollout_length=20,\n",
        "        time_flat=True, \n",
        "        use_value_replay=False, \n",
        "        model_summary_freq=10,\n",
        "        episode_summary_freq=1,\n",
        "        env_render_freq=2,\n",
        "    )\n",
        ")"
      ],
      "execution_count": 7,
      "outputs": [
        {
          "output_type": "stream",
          "text": [
            "BTgymDataset class is DEPRECATED, use btgym.datafeed.derivative.BTgymDataset2 instead.\n"
          ],
          "name": "stdout"
        }
      ]
    },
    {
      "cell_type": "code",
      "metadata": {
        "scrolled": true,
        "id": "7qlLzud5pxSs",
        "colab_type": "code",
        "colab": {
          "base_uri": "https://localhost:8080/",
          "height": 1000
        },
        "outputId": "ae8ff1b6-922f-4cc5-b93f-43f5a6f0930f"
      },
      "source": [
        "launcher = Launcher(\n",
        "    cluster_config=cluster_config,\n",
        "    env_config=env_config,\n",
        "    trainer_config=trainer_config,\n",
        "    policy_config=policy_config,\n",
        "    test_mode=False,\n",
        "    max_env_steps=100*10**6,\n",
        "    save_secs=300,  # save checkpoint every N seconds (default is 600)\n",
        "    root_random_seed=0,\n",
        "    verbose=0\n",
        ")\n",
        "\n",
        "# Train it:\n",
        "launcher.run()"
      ],
      "execution_count": 0,
      "outputs": [
        {
          "output_type": "stream",
          "text": [
            "</root/tmp/test_4_11> already exists. Override[y/n]? y\n",
            "[2020-04-19 02:14:25.394154] NOTICE: LauncherShell: files in: /root/tmp/test_4_11 purged.\n",
            "[2020-04-19 02:14:29.476956] NOTICE: UNREAL_0: learn_rate: 0.000100, entropy_beta: 0.050000\n",
            "\n",
            "********************************************************************************************\n",
            "**  Press `Ctrl-C` or jupyter:[Kernel]->[Interrupt] to stop training and close launcher.  **\n",
            "********************************************************************************************\n",
            "\n",
            "[2020-04-19 02:14:33.680827] NOTICE: UNREAL_2: learn_rate: 0.000100, entropy_beta: 0.050000\n",
            "[2020-04-19 02:14:33.711486] NOTICE: UNREAL_3: learn_rate: 0.000100, entropy_beta: 0.050000\n",
            "[2020-04-19 02:14:33.749972] NOTICE: UNREAL_1: learn_rate: 0.000100, entropy_beta: 0.050000\n",
            "[2020-04-19 02:14:40.257620] NOTICE: Worker_0: initializing all parameters...\n",
            "[2020-04-19 02:14:41.323378] NOTICE: Worker_0: no saved model parameters found in:\n",
            "/root/tmp/pre_trained_model/test_4_11\n",
            "[2020-04-19 02:14:41.484958] NOTICE: Worker_0: no saved model parameters found in:\n",
            "/root/tmp/test_4_11/current_train_checkpoint\n",
            "[2020-04-19 02:14:41.499436] NOTICE: Worker_0: training from scratch...\n",
            "[2020-04-19 02:14:45.073849] NOTICE: BTgymDataServer_0: Initial global_time set to: 2017-01-01 00:00:00 / stamp: 1483228800.0\n",
            "[2020-04-19 02:14:45.282192] NOTICE: Worker_0: started training at step: 0\n",
            "[2020-04-19 02:14:51.163423] NOTICE: Worker_3: initializing all parameters...\n",
            "[2020-04-19 02:14:52.528682] NOTICE: Worker_2: initializing all parameters...\n",
            "[2020-04-19 02:14:52.596928] NOTICE: Worker_1: initializing all parameters...\n",
            "[2020-04-19 02:14:52.965314] NOTICE: Worker_3: no saved model parameters found in:\n",
            "/root/tmp/pre_trained_model/test_4_11\n",
            "[2020-04-19 02:14:53.190731] NOTICE: Worker_3: no saved model parameters found in:\n",
            "/root/tmp/test_4_11/current_train_checkpoint\n",
            "[2020-04-19 02:14:53.209901] NOTICE: Worker_3: training from scratch...\n",
            "[2020-04-19 02:14:54.244909] NOTICE: Worker_2: no saved model parameters found in:\n",
            "/root/tmp/pre_trained_model/test_4_11\n",
            "[2020-04-19 02:14:54.267119] NOTICE: Worker_1: no saved model parameters found in:\n",
            "/root/tmp/pre_trained_model/test_4_11\n",
            "[2020-04-19 02:14:54.365793] NOTICE: Worker_1: no saved model parameters found in:\n",
            "/root/tmp/test_4_11/current_train_checkpoint\n",
            "[2020-04-19 02:14:54.371592] NOTICE: Worker_1: training from scratch...\n",
            "[2020-04-19 02:14:54.471411] NOTICE: Worker_2: no saved model parameters found in:\n",
            "/root/tmp/test_4_11/current_train_checkpoint\n",
            "[2020-04-19 02:14:54.481944] NOTICE: Worker_2: training from scratch...\n",
            "[2020-04-19 02:14:57.785428] NOTICE: Worker_3: started training at step: 120\n",
            "[2020-04-19 02:14:58.326543] NOTICE: Worker_1: started training at step: 120\n",
            "[2020-04-19 02:14:58.817226] NOTICE: Worker_2: started training at step: 120\n",
            "[2020-04-19 02:19:45.874109] NOTICE: Worker_0: env. step: 21569; cluster speed: 72 step/sec; checkpoint saved.\n",
            "[2020-04-19 02:24:48.231991] NOTICE: Worker_0: env. step: 43791; cluster speed: 73 step/sec; checkpoint saved.\n",
            "[2020-04-19 02:30:00.663925] NOTICE: Worker_0: env. step: 66439; cluster speed: 72 step/sec; checkpoint saved.\n",
            "[2020-04-19 02:35:03.477075] NOTICE: Worker_0: env. step: 88182; cluster speed: 72 step/sec; checkpoint saved.\n",
            "[2020-04-19 02:40:12.000263] NOTICE: Worker_0: env. step: 110224; cluster speed: 71 step/sec; checkpoint saved.\n",
            "[2020-04-19 02:45:21.735080] NOTICE: Worker_0: env. step: 132182; cluster speed: 71 step/sec; checkpoint saved.\n",
            "[2020-04-19 02:50:22.311126] NOTICE: Worker_0: env. step: 153382; cluster speed: 70 step/sec; checkpoint saved.\n",
            "[2020-04-19 02:55:34.184123] NOTICE: Worker_0: env. step: 175070; cluster speed: 69 step/sec; checkpoint saved.\n",
            "[2020-04-19 03:00:44.296661] NOTICE: Worker_0: env. step: 196853; cluster speed: 70 step/sec; checkpoint saved.\n",
            "[2020-04-19 03:05:49.853163] NOTICE: Worker_0: env. step: 218219; cluster speed: 70 step/sec; checkpoint saved.\n",
            "[2020-04-19 03:10:50.726776] NOTICE: Worker_0: env. step: 239294; cluster speed: 70 step/sec; checkpoint saved.\n",
            "[2020-04-19 03:16:04.099562] NOTICE: Worker_0: env. step: 262093; cluster speed: 73 step/sec; checkpoint saved.\n",
            "[2020-04-19 03:21:04.381396] NOTICE: Worker_0: env. step: 285230; cluster speed: 77 step/sec; checkpoint saved.\n",
            "[2020-04-19 03:26:04.556479] NOTICE: Worker_0: env. step: 308266; cluster speed: 77 step/sec; checkpoint saved.\n",
            "[2020-04-19 03:31:06.443944] NOTICE: Worker_0: env. step: 330386; cluster speed: 73 step/sec; checkpoint saved.\n",
            "[2020-04-19 03:36:20.255379] NOTICE: Worker_0: env. step: 352671; cluster speed: 71 step/sec; checkpoint saved.\n",
            "[2020-04-19 03:41:20.537344] NOTICE: Worker_0: env. step: 373736; cluster speed: 70 step/sec; checkpoint saved.\n",
            "[2020-04-19 03:46:37.055301] NOTICE: Worker_0: env. step: 395843; cluster speed: 70 step/sec; checkpoint saved.\n",
            "[2020-04-19 03:51:50.481599] NOTICE: Worker_0: env. step: 417444; cluster speed: 69 step/sec; checkpoint saved.\n",
            "[2020-04-19 03:57:05.683109] NOTICE: Worker_0: env. step: 439160; cluster speed: 69 step/sec; checkpoint saved.\n",
            "[2020-04-19 04:02:26.263175] NOTICE: Worker_0: env. step: 461146; cluster speed: 68 step/sec; checkpoint saved.\n",
            "[2020-04-19 04:07:26.724811] NOTICE: Worker_0: env. step: 481581; cluster speed: 68 step/sec; checkpoint saved.\n",
            "[2020-04-19 04:12:30.208117] NOTICE: Worker_0: env. step: 502222; cluster speed: 68 step/sec; checkpoint saved.\n",
            "[2020-04-19 04:17:30.826061] NOTICE: Worker_0: env. step: 522505; cluster speed: 67 step/sec; checkpoint saved.\n",
            "[2020-04-19 04:22:43.471181] NOTICE: Worker_0: env. step: 545365; cluster speed: 73 step/sec; checkpoint saved.\n",
            "[2020-04-19 04:27:48.675750] NOTICE: Worker_0: env. step: 567986; cluster speed: 74 step/sec; checkpoint saved.\n",
            "[2020-04-19 04:32:55.039805] NOTICE: Worker_0: env. step: 590713; cluster speed: 74 step/sec; checkpoint saved.\n",
            "[2020-04-19 04:38:09.763786] NOTICE: Worker_0: env. step: 614253; cluster speed: 75 step/sec; checkpoint saved.\n",
            "[2020-04-19 04:43:29.553041] NOTICE: Worker_0: env. step: 638148; cluster speed: 75 step/sec; checkpoint saved.\n",
            "[2020-04-19 04:48:50.538110] NOTICE: Worker_0: env. step: 662178; cluster speed: 75 step/sec; checkpoint saved.\n",
            "[2020-04-19 04:53:54.870687] NOTICE: Worker_0: env. step: 685177; cluster speed: 75 step/sec; checkpoint saved.\n",
            "[2020-04-19 04:58:59.438786] NOTICE: Worker_0: env. step: 708129; cluster speed: 75 step/sec; checkpoint saved.\n",
            "[2020-04-19 05:04:11.646498] NOTICE: Worker_0: env. step: 731684; cluster speed: 75 step/sec; checkpoint saved.\n",
            "[2020-04-19 05:09:14.806670] NOTICE: Worker_0: env. step: 754348; cluster speed: 75 step/sec; checkpoint saved.\n",
            "[2020-04-19 05:14:15.908421] NOTICE: Worker_0: env. step: 776732; cluster speed: 74 step/sec; checkpoint saved.\n",
            "[2020-04-19 05:19:26.577247] NOTICE: Worker_0: env. step: 800055; cluster speed: 75 step/sec; checkpoint saved.\n",
            "[2020-04-19 05:24:28.262705] NOTICE: Worker_0: env. step: 822502; cluster speed: 74 step/sec; checkpoint saved.\n",
            "[2020-04-19 05:29:48.200668] NOTICE: Worker_0: env. step: 846404; cluster speed: 75 step/sec; checkpoint saved.\n",
            "[2020-04-19 05:35:09.184141] NOTICE: Worker_0: env. step: 870297; cluster speed: 74 step/sec; checkpoint saved.\n",
            "[2020-04-19 05:40:25.374660] NOTICE: Worker_0: env. step: 893692; cluster speed: 74 step/sec; checkpoint saved.\n",
            "[2020-04-19 05:45:49.492915] NOTICE: Worker_0: env. step: 917619; cluster speed: 74 step/sec; checkpoint saved.\n",
            "[2020-04-19 05:51:10.380475] NOTICE: Worker_0: env. step: 941261; cluster speed: 73 step/sec; checkpoint saved.\n",
            "[2020-04-19 05:56:29.482567] NOTICE: Worker_0: env. step: 964862; cluster speed: 74 step/sec; checkpoint saved.\n",
            "[2020-04-19 06:01:48.487180] NOTICE: Worker_0: env. step: 988577; cluster speed: 74 step/sec; checkpoint saved.\n",
            "[2020-04-19 06:07:10.535175] NOTICE: Worker_0: env. step: 1012995; cluster speed: 76 step/sec; checkpoint saved.\n",
            "[2020-04-19 06:12:10.853111] NOTICE: Worker_0: env. step: 1035434; cluster speed: 74 step/sec; checkpoint saved.\n",
            "[2020-04-19 06:17:11.370506] NOTICE: Worker_0: env. step: 1057318; cluster speed: 73 step/sec; checkpoint saved.\n",
            "[2020-04-19 06:22:20.615260] NOTICE: Worker_0: env. step: 1079683; cluster speed: 72 step/sec; checkpoint saved.\n",
            "[2020-04-19 06:27:30.003598] NOTICE: Worker_0: env. step: 1101865; cluster speed: 71 step/sec; checkpoint saved.\n",
            "[2020-04-19 06:32:48.750650] NOTICE: Worker_0: env. step: 1124800; cluster speed: 72 step/sec; checkpoint saved.\n",
            "[2020-04-19 06:38:05.450107] NOTICE: Worker_0: env. step: 1147323; cluster speed: 71 step/sec; checkpoint saved.\n",
            "[2020-04-19 06:43:32.481053] NOTICE: Worker_0: env. step: 1170854; cluster speed: 72 step/sec; checkpoint saved.\n",
            "[2020-04-19 06:48:56.090484] NOTICE: Worker_0: env. step: 1194356; cluster speed: 72 step/sec; checkpoint saved.\n",
            "[2020-04-19 06:54:09.742099] NOTICE: Worker_0: env. step: 1217774; cluster speed: 74 step/sec; checkpoint saved.\n",
            "[2020-04-19 06:59:24.558823] NOTICE: Worker_0: env. step: 1241362; cluster speed: 75 step/sec; checkpoint saved.\n",
            "[2020-04-19 07:04:46.206166] NOTICE: Worker_0: env. step: 1265571; cluster speed: 75 step/sec; checkpoint saved.\n",
            "[2020-04-19 07:10:05.552117] NOTICE: Worker_0: env. step: 1289258; cluster speed: 74 step/sec; checkpoint saved.\n",
            "[2020-04-19 07:15:28.211967] NOTICE: Worker_0: env. step: 1312898; cluster speed: 73 step/sec; checkpoint saved.\n",
            "[2020-04-19 07:20:28.553545] NOTICE: Worker_0: env. step: 1334534; cluster speed: 72 step/sec; checkpoint saved.\n",
            "[2020-04-19 07:25:35.186013] NOTICE: Worker_0: env. step: 1356063; cluster speed: 70 step/sec; checkpoint saved.\n",
            "[2020-04-19 07:30:35.642731] NOTICE: Worker_0: env. step: 1378079; cluster speed: 73 step/sec; checkpoint saved.\n",
            "[2020-04-19 07:36:02.527956] NOTICE: Worker_0: env. step: 1402206; cluster speed: 74 step/sec; checkpoint saved.\n",
            "[2020-04-19 07:41:02.904579] NOTICE: Worker_0: env. step: 1424622; cluster speed: 74 step/sec; checkpoint saved.\n",
            "[2020-04-19 07:46:22.276268] NOTICE: Worker_0: env. step: 1448352; cluster speed: 74 step/sec; checkpoint saved.\n",
            "[2020-04-19 07:51:22.693009] NOTICE: Worker_0: env. step: 1470778; cluster speed: 74 step/sec; checkpoint saved.\n",
            "[2020-04-19 07:56:22.980282] NOTICE: Worker_0: env. step: 1493102; cluster speed: 74 step/sec; checkpoint saved.\n",
            "[2020-04-19 08:01:23.163982] NOTICE: Worker_0: env. step: 1515477; cluster speed: 74 step/sec; checkpoint saved.\n",
            "[2020-04-19 08:06:26.667687] NOTICE: Worker_0: env. step: 1537960; cluster speed: 74 step/sec; checkpoint saved.\n",
            "[2020-04-19 08:11:27.673543] NOTICE: Worker_0: env. step: 1560163; cluster speed: 74 step/sec; checkpoint saved.\n",
            "[2020-04-19 08:16:34.077097] NOTICE: Worker_0: env. step: 1583049; cluster speed: 75 step/sec; checkpoint saved.\n",
            "[2020-04-19 08:21:47.290826] NOTICE: Worker_0: env. step: 1606438; cluster speed: 74 step/sec; checkpoint saved.\n",
            "[2020-04-19 08:27:00.127938] NOTICE: Worker_0: env. step: 1630104; cluster speed: 75 step/sec; checkpoint saved.\n",
            "[2020-04-19 08:32:11.128446] NOTICE: Worker_0: env. step: 1653347; cluster speed: 75 step/sec; checkpoint saved.\n",
            "[2020-04-19 08:37:28.865675] NOTICE: Worker_0: env. step: 1677016; cluster speed: 74 step/sec; checkpoint saved.\n",
            "[2020-04-19 08:42:40.545292] NOTICE: Worker_0: env. step: 1699851; cluster speed: 73 step/sec; checkpoint saved.\n",
            "[2020-04-19 08:48:02.479445] NOTICE: Worker_0: env. step: 1723422; cluster speed: 73 step/sec; checkpoint saved.\n",
            "[2020-04-19 08:53:21.721812] NOTICE: Worker_0: env. step: 1746640; cluster speed: 73 step/sec; checkpoint saved.\n",
            "[2020-04-19 08:58:43.581493] NOTICE: Worker_0: env. step: 1769759; cluster speed: 72 step/sec; checkpoint saved.\n",
            "[2020-04-19 09:04:08.501867] NOTICE: Worker_0: env. step: 1792968; cluster speed: 71 step/sec; checkpoint saved.\n",
            "[2020-04-19 09:09:09.391011] NOTICE: Worker_0: env. step: 1814630; cluster speed: 72 step/sec; checkpoint saved.\n",
            "[2020-04-19 09:14:35.634075] NOTICE: Worker_0: env. step: 1837842; cluster speed: 71 step/sec; checkpoint saved.\n",
            "[2020-04-19 09:19:36.344830] NOTICE: Worker_0: env. step: 1859474; cluster speed: 72 step/sec; checkpoint saved.\n",
            "[2020-04-19 09:24:37.329742] NOTICE: Worker_0: env. step: 1880941; cluster speed: 71 step/sec; checkpoint saved.\n",
            "[2020-04-19 09:30:09.693320] NOTICE: Worker_0: env. step: 1904765; cluster speed: 72 step/sec; checkpoint saved.\n",
            "[2020-04-19 09:35:38.369713] NOTICE: Worker_0: env. step: 1928666; cluster speed: 73 step/sec; checkpoint saved.\n",
            "[2020-04-19 09:40:39.094771] NOTICE: Worker_0: env. step: 1950946; cluster speed: 74 step/sec; checkpoint saved.\n",
            "[2020-04-19 09:46:12.997650] NOTICE: Worker_0: env. step: 1975504; cluster speed: 73 step/sec; checkpoint saved.\n",
            "[2020-04-19 09:51:13.446028] NOTICE: Worker_0: env. step: 1997265; cluster speed: 72 step/sec; checkpoint saved.\n",
            "[2020-04-19 09:56:13.720919] NOTICE: Worker_0: env. step: 2019353; cluster speed: 73 step/sec; checkpoint saved.\n",
            "[2020-04-19 10:01:45.561114] NOTICE: Worker_0: env. step: 2043227; cluster speed: 72 step/sec; checkpoint saved.\n",
            "[2020-04-19 10:06:48.985558] NOTICE: Worker_0: env. step: 2065021; cluster speed: 72 step/sec; checkpoint saved.\n",
            "[2020-04-19 10:11:55.548861] NOTICE: Worker_0: env. step: 2087034; cluster speed: 72 step/sec; checkpoint saved.\n",
            "[2020-04-19 10:17:09.178846] NOTICE: Worker_0: env. step: 2109317; cluster speed: 71 step/sec; checkpoint saved.\n",
            "[2020-04-19 10:22:21.924112] NOTICE: Worker_0: env. step: 2131303; cluster speed: 70 step/sec; checkpoint saved.\n",
            "[2020-04-19 10:27:37.105347] NOTICE: Worker_0: env. step: 2153550; cluster speed: 70 step/sec; checkpoint saved.\n",
            "[2020-04-19 10:32:52.559410] NOTICE: Worker_0: env. step: 2175708; cluster speed: 70 step/sec; checkpoint saved.\n",
            "[2020-04-19 10:38:07.058074] NOTICE: Worker_0: env. step: 2198129; cluster speed: 71 step/sec; checkpoint saved.\n",
            "[2020-04-19 10:43:21.509761] NOTICE: Worker_0: env. step: 2220392; cluster speed: 71 step/sec; checkpoint saved.\n",
            "[2020-04-19 10:48:50.387774] NOTICE: Worker_0: env. step: 2243599; cluster speed: 70 step/sec; checkpoint saved.\n",
            "[2020-04-19 10:54:09.504713] NOTICE: Worker_0: env. step: 2266001; cluster speed: 70 step/sec; checkpoint saved.\n",
            "[2020-04-19 10:59:24.188117] NOTICE: Worker_0: env. step: 2287976; cluster speed: 70 step/sec; checkpoint saved.\n",
            "[2020-04-19 11:04:50.516492] NOTICE: Worker_0: env. step: 2311354; cluster speed: 71 step/sec; checkpoint saved.\n",
            "[2020-04-19 11:10:08.703059] NOTICE: Worker_0: env. step: 2334249; cluster speed: 72 step/sec; checkpoint saved.\n",
            "[2020-04-19 11:15:35.518516] NOTICE: Worker_0: env. step: 2357230; cluster speed: 70 step/sec; checkpoint saved.\n",
            "[2020-04-19 11:21:07.032291] NOTICE: Worker_0: env. step: 2380039; cluster speed: 69 step/sec; checkpoint saved.\n",
            "[2020-04-19 11:26:33.371980] NOTICE: Worker_0: env. step: 2402423; cluster speed: 68 step/sec; checkpoint saved.\n",
            "[2020-04-19 11:31:58.801342] NOTICE: Worker_0: env. step: 2425174; cluster speed: 70 step/sec; checkpoint saved.\n",
            "[2020-04-19 11:37:19.461568] NOTICE: Worker_0: env. step: 2448073; cluster speed: 71 step/sec; checkpoint saved.\n",
            "[2020-04-19 11:42:50.311984] NOTICE: Worker_0: env. step: 2471949; cluster speed: 72 step/sec; checkpoint saved.\n",
            "[2020-04-19 11:48:27.268831] NOTICE: Worker_0: env. step: 2495488; cluster speed: 70 step/sec; checkpoint saved.\n",
            "[2020-04-19 11:53:27.765815] NOTICE: Worker_0: env. step: 2516223; cluster speed: 69 step/sec; checkpoint saved.\n",
            "[2020-04-19 11:59:03.387126] NOTICE: Worker_0: env. step: 2539346; cluster speed: 69 step/sec; checkpoint saved.\n",
            "[2020-04-19 12:04:31.028812] NOTICE: Worker_0: env. step: 2562668; cluster speed: 71 step/sec; checkpoint saved.\n"
          ],
          "name": "stdout"
        }
      ]
    },
    {
      "cell_type": "code",
      "metadata": {
        "id": "K5v8UvnOpxSx",
        "colab_type": "code",
        "colab": {
          "base_uri": "https://localhost:8080/",
          "height": 135
        },
        "outputId": "f83e590a-c385-422e-ce31-c39ba610bc76"
      },
      "source": [
        "# Save, restore or resume:\n",
        "\n",
        "# Use launcher.export_checkpoint() method to save most recent trained model parameters to external directory; \n",
        "# one can load it as pre-trained model for next run via cluster_gongig -> initial_ckpt_dir arg, (see above).\n",
        "#\n",
        "# Note: \n",
        "# 1. when loading pre-trained model, training is started at global_step=0 unlike\n",
        "#    restoring from current checkpoint, when training resumes from last saved global_step value;\n",
        "# 2. answering Yes to Launcher's `Override[y/n]?` affects log_dir content only;\n",
        "# 3. launcher now got 'save_secs' arg, cpecifying how often checkpoints\n",
        "should be written. Default value is 600;\n",
        "# 4. exporting checkpoint overrides content of destination folder.\n",
        "#\n",
        "# Launcher starting routine:\n",
        "# 1. if initial_ckpt_dir is given - try to load pre-trained model and start at step=0 if succeeded;\n",
        "# 2. if failed - look for routinely saved checkpoint and if succeeded - resume training at step found in that point;\n",
        "# 3. if that fails - start training from scratch.\n",
        "\n",
        "launcher.export_checkpoint(os.path.expanduser('~/tmp/pre_trained_model/test_4_11'))"
      ],
      "execution_count": 1,
      "outputs": [
        {
          "output_type": "error",
          "ename": "SyntaxError",
          "evalue": "ignored",
          "traceback": [
            "\u001b[0;36m  File \u001b[0;32m\"<ipython-input-1-a8d305df5e41>\"\u001b[0;36m, line \u001b[0;32m1\u001b[0m\n\u001b[0;31m    should be written. Default value is 600;\u001b[0m\n\u001b[0m            ^\u001b[0m\n\u001b[0;31mSyntaxError\u001b[0m\u001b[0;31m:\u001b[0m invalid syntax\n"
          ]
        }
      ]
    },
    {
      "cell_type": "code",
      "metadata": {
        "id": "Ccx_a0WSpxS4",
        "colab_type": "code",
        "colab": {}
      },
      "source": [
        ""
      ],
      "execution_count": 0,
      "outputs": []
    }
  ]
}