{
  "nbformat": 4,
  "nbformat_minor": 0,
  "metadata": {
    "kernelspec": {
      "name": "python3",
      "display_name": "Python 3"
    },
    "colab": {
      "name": "unreal_stacked_lstm_strat_4_11.ipynb",
      "provenance": [],
      "include_colab_link": true
    },
    "accelerator": "GPU"
  },
  "cells": [
    {
      "cell_type": "markdown",
      "metadata": {
        "id": "view-in-github",
        "colab_type": "text"
      },
      "source": [
        "<a href=\"https://colab.research.google.com/github/carlomigs/btgym/blob/master/examples/migs_unreal_stacked_lstm_strat_4_11.ipynb\" target=\"_parent\"><img src=\"https://colab.research.google.com/assets/colab-badge.svg\" alt=\"Open In Colab\"/></a>"
      ]
    },
    {
      "cell_type": "code",
      "metadata": {
        "scrolled": false,
        "id": "ngMAfFuBpxSa",
        "colab_type": "code",
        "colab": {
          "base_uri": "https://localhost:8080/",
          "height": 870
        },
        "outputId": "40efd67b-fc60-4c00-af9e-ccc7801ade74"
      },
      "source": [
        "!git clone https://github.com/Kismuz/btgym.git\n",
        "%cd btgym\n",
        "!pip install -e ."
      ],
      "execution_count": 2,
      "outputs": [
        {
          "output_type": "stream",
          "text": [
            "fatal: destination path 'btgym' already exists and is not an empty directory.\n",
            "/content/btgym\n",
            "Obtaining file:///content/btgym\n",
            "Requirement already satisfied: tensorflow>=1.5 in /usr/local/lib/python3.6/dist-packages (from btgym==0.0.8) (1.5.0)\n",
            "Requirement already satisfied: opencv-python in /usr/local/lib/python3.6/dist-packages (from btgym==0.0.8) (4.1.2.30)\n",
            "Requirement already satisfied: gym[atari] in /usr/local/lib/python3.6/dist-packages (from btgym==0.0.8) (0.17.1)\n",
            "Requirement already satisfied: backtrader in /usr/local/lib/python3.6/dist-packages (from btgym==0.0.8) (1.9.74.123)\n",
            "Requirement already satisfied: pyzmq in /usr/local/lib/python3.6/dist-packages (from btgym==0.0.8) (19.0.0)\n",
            "Requirement already satisfied: matplotlib<=2.0.2 in /usr/local/lib/python3.6/dist-packages (from btgym==0.0.8) (2.0.2)\n",
            "Requirement already satisfied: pillow in /usr/local/lib/python3.6/dist-packages (from btgym==0.0.8) (7.0.0)\n",
            "Requirement already satisfied: numpy in /usr/local/lib/python3.6/dist-packages (from btgym==0.0.8) (1.18.2)\n",
            "Requirement already satisfied: scipy in /usr/local/lib/python3.6/dist-packages (from btgym==0.0.8) (1.4.1)\n",
            "Requirement already satisfied: pandas in /usr/local/lib/python3.6/dist-packages (from btgym==0.0.8) (1.0.3)\n",
            "Requirement already satisfied: ipython in /usr/local/lib/python3.6/dist-packages (from btgym==0.0.8) (5.5.0)\n",
            "Requirement already satisfied: psutil in /usr/local/lib/python3.6/dist-packages (from btgym==0.0.8) (5.4.8)\n",
            "Requirement already satisfied: logbook in /usr/local/lib/python3.6/dist-packages (from btgym==0.0.8) (1.5.3)\n",
            "Requirement already satisfied: absl-py>=0.1.6 in /usr/local/lib/python3.6/dist-packages (from tensorflow>=1.5->btgym==0.0.8) (0.9.0)\n",
            "Requirement already satisfied: wheel>=0.26 in /usr/local/lib/python3.6/dist-packages (from tensorflow>=1.5->btgym==0.0.8) (0.34.2)\n",
            "Requirement already satisfied: protobuf>=3.4.0 in /usr/local/lib/python3.6/dist-packages (from tensorflow>=1.5->btgym==0.0.8) (3.10.0)\n",
            "Requirement already satisfied: tensorflow-tensorboard<1.6.0,>=1.5.0 in /usr/local/lib/python3.6/dist-packages (from tensorflow>=1.5->btgym==0.0.8) (1.5.1)\n",
            "Requirement already satisfied: six>=1.10.0 in /usr/local/lib/python3.6/dist-packages (from tensorflow>=1.5->btgym==0.0.8) (1.12.0)\n",
            "Requirement already satisfied: cloudpickle<1.4.0,>=1.2.0 in /usr/local/lib/python3.6/dist-packages (from gym[atari]->btgym==0.0.8) (1.3.0)\n",
            "Requirement already satisfied: pyglet<=1.5.0,>=1.4.0 in /usr/local/lib/python3.6/dist-packages (from gym[atari]->btgym==0.0.8) (1.5.0)\n",
            "Requirement already satisfied: atari-py~=0.2.0; extra == \"atari\" in /usr/local/lib/python3.6/dist-packages (from gym[atari]->btgym==0.0.8) (0.2.6)\n",
            "Requirement already satisfied: pyparsing!=2.0.0,!=2.0.4,!=2.1.2,!=2.1.6,>=1.5.6 in /usr/local/lib/python3.6/dist-packages (from matplotlib<=2.0.2->btgym==0.0.8) (2.4.7)\n",
            "Requirement already satisfied: python-dateutil in /usr/local/lib/python3.6/dist-packages (from matplotlib<=2.0.2->btgym==0.0.8) (2.8.1)\n",
            "Requirement already satisfied: cycler>=0.10 in /usr/local/lib/python3.6/dist-packages (from matplotlib<=2.0.2->btgym==0.0.8) (0.10.0)\n",
            "Requirement already satisfied: pytz in /usr/local/lib/python3.6/dist-packages (from matplotlib<=2.0.2->btgym==0.0.8) (2018.9)\n",
            "Requirement already satisfied: pickleshare in /usr/local/lib/python3.6/dist-packages (from ipython->btgym==0.0.8) (0.7.5)\n",
            "Requirement already satisfied: pexpect; sys_platform != \"win32\" in /usr/local/lib/python3.6/dist-packages (from ipython->btgym==0.0.8) (4.8.0)\n",
            "Requirement already satisfied: decorator in /usr/local/lib/python3.6/dist-packages (from ipython->btgym==0.0.8) (4.4.2)\n",
            "Requirement already satisfied: setuptools>=18.5 in /usr/local/lib/python3.6/dist-packages (from ipython->btgym==0.0.8) (46.1.3)\n",
            "Requirement already satisfied: pygments in /usr/local/lib/python3.6/dist-packages (from ipython->btgym==0.0.8) (2.1.3)\n",
            "Requirement already satisfied: simplegeneric>0.8 in /usr/local/lib/python3.6/dist-packages (from ipython->btgym==0.0.8) (0.8.1)\n",
            "Requirement already satisfied: prompt-toolkit<2.0.0,>=1.0.4 in /usr/local/lib/python3.6/dist-packages (from ipython->btgym==0.0.8) (1.0.18)\n",
            "Requirement already satisfied: traitlets>=4.2 in /usr/local/lib/python3.6/dist-packages (from ipython->btgym==0.0.8) (4.3.3)\n",
            "Requirement already satisfied: werkzeug>=0.11.10 in /usr/local/lib/python3.6/dist-packages (from tensorflow-tensorboard<1.6.0,>=1.5.0->tensorflow>=1.5->btgym==0.0.8) (1.0.1)\n",
            "Requirement already satisfied: markdown>=2.6.8 in /usr/local/lib/python3.6/dist-packages (from tensorflow-tensorboard<1.6.0,>=1.5.0->tensorflow>=1.5->btgym==0.0.8) (3.2.1)\n",
            "Requirement already satisfied: html5lib==0.9999999 in /usr/local/lib/python3.6/dist-packages (from tensorflow-tensorboard<1.6.0,>=1.5.0->tensorflow>=1.5->btgym==0.0.8) (0.9999999)\n",
            "Requirement already satisfied: bleach==1.5.0 in /usr/local/lib/python3.6/dist-packages (from tensorflow-tensorboard<1.6.0,>=1.5.0->tensorflow>=1.5->btgym==0.0.8) (1.5.0)\n",
            "Requirement already satisfied: future in /usr/local/lib/python3.6/dist-packages (from pyglet<=1.5.0,>=1.4.0->gym[atari]->btgym==0.0.8) (0.16.0)\n",
            "Requirement already satisfied: ptyprocess>=0.5 in /usr/local/lib/python3.6/dist-packages (from pexpect; sys_platform != \"win32\"->ipython->btgym==0.0.8) (0.6.0)\n",
            "Requirement already satisfied: wcwidth in /usr/local/lib/python3.6/dist-packages (from prompt-toolkit<2.0.0,>=1.0.4->ipython->btgym==0.0.8) (0.1.9)\n",
            "Requirement already satisfied: ipython-genutils in /usr/local/lib/python3.6/dist-packages (from traitlets>=4.2->ipython->btgym==0.0.8) (0.2.0)\n",
            "Installing collected packages: btgym\n",
            "  Found existing installation: btgym 0.0.8\n",
            "    Can't uninstall 'btgym'. No files were found to uninstall.\n",
            "  Running setup.py develop for btgym\n",
            "Successfully installed btgym\n"
          ],
          "name": "stdout"
        }
      ]
    },
    {
      "cell_type": "code",
      "metadata": {
        "id": "Ie_xfUdgNJy1",
        "colab_type": "code",
        "colab": {
          "base_uri": "https://localhost:8080/",
          "height": 391
        },
        "outputId": "16fae907-a01e-45c8-f847-eab71a9e79bf"
      },
      "source": [
        "import os\n",
        "os.getcwd()\n",
        "%cd data\n",
        "!ls"
      ],
      "execution_count": 9,
      "outputs": [
        {
          "output_type": "stream",
          "text": [
            "/content/btgym/examples/data\n",
            "DAT_ASCII_EURCHF_M1_2017.csv\n",
            "DAT_ASCII_EURGBP_M1_2017.csv\n",
            "DAT_ASCII_EURJPY_M1_2017.csv\n",
            "DAT_ASCII_EURUSD_M1_2010.csv\n",
            "DAT_ASCII_EURUSD_M1_2011.csv\n",
            "DAT_ASCII_EURUSD_M1_2012.csv\n",
            "DAT_ASCII_EURUSD_M1_2013.csv\n",
            "DAT_ASCII_EURUSD_M1_2014.csv\n",
            "DAT_ASCII_EURUSD_M1_2015.csv\n",
            "DAT_ASCII_EURUSD_M1_2016.csv\n",
            "DAT_ASCII_EURUSD_M1_201701.csv\n",
            "DAT_ASCII_EURUSD_M1_201702.csv\n",
            "DAT_ASCII_EURUSD_M1_201703_1_10.csv\n",
            "DAT_ASCII_EURUSD_M1_201703.csv\n",
            "DAT_ASCII_EURUSD_M1_201704.csv\n",
            "DAT_ASCII_EURUSD_M1_201705.csv\n",
            "DAT_ASCII_EURUSD_M1_201706.csv\n",
            "DAT_ASCII_EURUSD_M1_2017.csv\n",
            "test_bent_sine_1min_period1500_300_delta0002.csv\n",
            "test_bent_sine_1min_period_300_1500_delta0002.csv\n",
            "test_sine_1min_period256_delta0002.csv\n"
          ],
          "name": "stdout"
        }
      ]
    },
    {
      "cell_type": "code",
      "metadata": {
        "id": "swPLOt41KiFn",
        "colab_type": "code",
        "colab": {
          "base_uri": "https://localhost:8080/",
          "height": 258
        },
        "outputId": "a3035f97-c94e-4332-ca65-387a8f15737a"
      },
      "source": [
        "!pip install tensorflow==1.5\n",
        "!pip install backtrader"
      ],
      "execution_count": 1,
      "outputs": [
        {
          "output_type": "stream",
          "text": [
            "Requirement already satisfied: tensorflow==1.5 in /usr/local/lib/python3.6/dist-packages (1.5.0)\n",
            "Requirement already satisfied: tensorflow-tensorboard<1.6.0,>=1.5.0 in /usr/local/lib/python3.6/dist-packages (from tensorflow==1.5) (1.5.1)\n",
            "Requirement already satisfied: numpy>=1.12.1 in /usr/local/lib/python3.6/dist-packages (from tensorflow==1.5) (1.18.2)\n",
            "Requirement already satisfied: absl-py>=0.1.6 in /usr/local/lib/python3.6/dist-packages (from tensorflow==1.5) (0.9.0)\n",
            "Requirement already satisfied: six>=1.10.0 in /usr/local/lib/python3.6/dist-packages (from tensorflow==1.5) (1.12.0)\n",
            "Requirement already satisfied: protobuf>=3.4.0 in /usr/local/lib/python3.6/dist-packages (from tensorflow==1.5) (3.10.0)\n",
            "Requirement already satisfied: wheel>=0.26 in /usr/local/lib/python3.6/dist-packages (from tensorflow==1.5) (0.34.2)\n",
            "Requirement already satisfied: markdown>=2.6.8 in /usr/local/lib/python3.6/dist-packages (from tensorflow-tensorboard<1.6.0,>=1.5.0->tensorflow==1.5) (3.2.1)\n",
            "Requirement already satisfied: html5lib==0.9999999 in /usr/local/lib/python3.6/dist-packages (from tensorflow-tensorboard<1.6.0,>=1.5.0->tensorflow==1.5) (0.9999999)\n",
            "Requirement already satisfied: bleach==1.5.0 in /usr/local/lib/python3.6/dist-packages (from tensorflow-tensorboard<1.6.0,>=1.5.0->tensorflow==1.5) (1.5.0)\n",
            "Requirement already satisfied: werkzeug>=0.11.10 in /usr/local/lib/python3.6/dist-packages (from tensorflow-tensorboard<1.6.0,>=1.5.0->tensorflow==1.5) (1.0.1)\n",
            "Requirement already satisfied: setuptools in /usr/local/lib/python3.6/dist-packages (from protobuf>=3.4.0->tensorflow==1.5) (46.1.3)\n",
            "Requirement already satisfied: backtrader in /usr/local/lib/python3.6/dist-packages (1.9.74.123)\n"
          ],
          "name": "stdout"
        }
      ]
    },
    {
      "cell_type": "code",
      "metadata": {
        "id": "7mr3x1RJtKik",
        "colab_type": "code",
        "outputId": "63ca0b5f-b144-4309-87d6-95d13fb169a5",
        "colab": {
          "base_uri": "https://localhost:8080/",
          "height": 63
        }
      },
      "source": [
        "import warnings\n",
        "warnings.filterwarnings(\"ignore\") # suppress h5py deprecation warning\n",
        "\n",
        "import os\n",
        "import backtrader as bt\n",
        "import numpy as np\n",
        "\n",
        "from btgym import BTgymEnv, BTgymDataset\n",
        "from btgym.strategy.observers import Reward, Position, NormPnL\n",
        "from btgym.algorithms import Launcher, Unreal, AacStackedRL2Policy\n",
        "from btgym.research.strategy_gen_4 import DevStrat_4_11"
      ],
      "execution_count": 3,
      "outputs": [
        {
          "output_type": "display_data",
          "data": {
            "text/html": [
              "<p style=\"color: red;\">\n",
              "The default version of TensorFlow in Colab will switch to TensorFlow 2.x on the 27th of March, 2020.<br>\n",
              "We recommend you <a href=\"https://www.tensorflow.org/guide/migrate\" target=\"_blank\">upgrade</a> now\n",
              "or ensure your notebook will continue to use TensorFlow 1.x via the <code>%tensorflow_version 1.x</code> magic:\n",
              "<a href=\"https://colab.research.google.com/notebooks/tensorflow_version.ipynb\" target=\"_blank\">more info</a>.</p>\n"
            ],
            "text/plain": [
              "<IPython.core.display.HTML object>"
            ]
          },
          "metadata": {
            "tags": []
          }
        }
      ]
    },
    {
      "cell_type": "markdown",
      "metadata": {
        "id": "fqlBTrqupxSl",
        "colab_type": "text"
      },
      "source": [
        "### Stacked LSTM Agent usage example.\n",
        "\n",
        "Based on NAV_A3C+D from [\"LEARNING TO NAVIGATE IN COMPLEX ENVIRONMENTS\"](https://arxiv.org/pdf/1611.03673.pdf) paper by Mirowski at al.;\n",
        "\n",
        "Modifications to original paper arhcitecture:\n",
        "- splitted Policy/Value outputs: Policy is taken off first LSTM layer, Value - off the second;\n",
        "- LSTM state initialisation: first RNN layer context (policy) is initialised on every episode start, while second   (Value) is reset either on begining of every Trial (future work) or or every N-constant episodes (60 for this     example), motivated by RL^2 approach by Duan et al., \n",
        "  [\"FAST REINFORCEMENT LEARNING VIA SLOW REINFORCEMENT LEARNING\"](https://arxiv.org/pdf/1611.02779.pdf);\n",
        "- inner/external observation state state split: external (market) is encoded via conolution layers and fed to       first LSTM layer, inner (broker) state is fed into second LSTM layer, can optionally be encoded via separate       convolution block (doesnt seem to improve much though);\n",
        "- optional Value Replay losss (`Unreal` feature) improves sample efficiency, but is computationally expensive;\n",
        "\n",
        "Other details:\n",
        "- All convolution and LSTM layers are layer-normalized, see \n",
        "  [\"Layer Normalisation\"](https://arxiv.org/abs/1607.06450) paper by Jimmy Ba at al.;\n",
        "  \n",
        "- Upd 2.02.18: linear layers are Noisy-Net ones, see: [Noisy Networks for Exploration] (https://arxiv.org/abs/1706.10295) paper by Fortunato at al.; policy output is centered using layer normalisation;\n",
        " added linearly decayed state scaling;\n",
        "\n",
        "- A3C option `time_flat` is ON by default, improves training stability, reduces computation costs, see \n",
        "  [Base_AAC class Note](https://kismuz.github.io/btgym/btgym.algorithms.html#module-btgym.algorithms.aac) for       details;\n",
        "  \n",
        "Diagram: https://kismuz.github.io/btgym/_images/a3c_stacked_lstm_agent.png\n",
        "\n",
        "**NOTE:**\n",
        "Currently it takes ~20M env.steps to fit 6-month 1min bars data set. Much faster on smaller ones."
      ]
    },
    {
      "cell_type": "code",
      "metadata": {
        "id": "MGVg3aR4pxSm",
        "colab_type": "code",
        "outputId": "a2cf4198-0bb7-43e4-dc40-eb6e8c3a39d2",
        "colab": {
          "base_uri": "https://localhost:8080/",
          "height": 34
        }
      },
      "source": [
        "# Set backtesting engine parameters:\n",
        "\n",
        "MyCerebro = bt.Cerebro()\n",
        "\n",
        "# Define strategy and broker account parameters:\n",
        "MyCerebro.addstrategy(\n",
        "    DevStrat_4_11,\n",
        "    start_cash=2000,  # initial broker cash\n",
        "    commission=0.0001,  # commisssion to imitate spread\n",
        "    leverage=10.0,\n",
        "    order_size=2000,  # fixed stake, mind leverage\n",
        "    drawdown_call=10, # max % to loose, in percent of initial cash\n",
        "    target_call=10,  # max % to win, same\n",
        "    skip_frame=10,\n",
        "    gamma=0.99,\n",
        "    reward_scale=7, # gardient`s nitrox, touch with care!\n",
        "    state_ext_scale = np.linspace(3e3, 1e3, num=5)\n",
        ")\n",
        "# Visualisations for reward, position and PnL dynamics:\n",
        "MyCerebro.addobserver(Reward)\n",
        "MyCerebro.addobserver(Position)\n",
        "MyCerebro.addobserver(NormPnL)\n",
        "\n",
        "# Data: uncomment to get up to six month of 1 minute bars:\n",
        "data_m1_6_month = [\n",
        "    'btgym/examples/data/DAT_ASCII_EURUSD_M1_201701.csv',\n",
        "    'btgym/examples/data/DAT_ASCII_EURUSD_M1_201702.csv',\n",
        "    'btgym/examples/data/DAT_ASCII_EURUSD_M1_201703.csv',\n",
        "    'btgym/examples/data/DAT_ASCII_EURUSD_M1_201704.csv',\n",
        "    'btgym/examples/data/DAT_ASCII_EURUSD_M1_201705.csv',\n",
        "    'btgym/examples/data/DAT_ASCII_EURUSD_M1_201706.csv',\n",
        "]\n",
        "\n",
        "# Uncomment single choice:\n",
        "MyDataset = BTgymDataset(\n",
        "    #filename=data_m1_6_month,\n",
        "    filename='/content/btgym/examples/data/test_sine_1min_period256_delta0002.csv',  # simple sine \n",
        "    start_weekdays={0, 1, 2, 3, 4, 5, 6},\n",
        "    episode_duration={'days': 1, 'hours': 23, 'minutes': 40}, # note: 2day-long episode\n",
        "    start_00=False,\n",
        "    time_gap={'hours': 10},\n",
        ")\n",
        "\n",
        "env_config = dict(\n",
        "    class_ref=BTgymEnv, \n",
        "    kwargs=dict(\n",
        "        dataset=MyDataset,\n",
        "        engine=MyCerebro,\n",
        "        render_modes=['episode'], #, 'human', 'internal', ], #'external'],\n",
        "        render_state_as_image=True,\n",
        "        render_ylabel='OHL_diff. / Internals',\n",
        "        render_size_episode=(12,8),\n",
        "        render_size_human=(9, 4),\n",
        "        render_size_state=(11, 3),\n",
        "        render_dpi=75,\n",
        "        port=5000,\n",
        "        data_port=4999,\n",
        "        connect_timeout=90,\n",
        "        verbose=0,\n",
        "    )\n",
        ")\n",
        "\n",
        "cluster_config = dict(\n",
        "    host='127.0.0.1',\n",
        "    port=12230,\n",
        "    num_workers=4,  # set according CPU's available or so\n",
        "    num_ps=1,\n",
        "    num_envs=1,\n",
        "    log_dir=os.path.expanduser('~/tmp/test_4_11'),  # current checkpoints and summaries are here\n",
        "    initial_ckpt_dir=os.path.expanduser('~/tmp/pre_trained_model/test_4_11'),  # load pre-trained model, if chekpoint found  \n",
        ")\n",
        "\n",
        "policy_config = dict(\n",
        "    class_ref=AacStackedRL2Policy,\n",
        "    kwargs={\n",
        "        'lstm_layers': (256, 256),\n",
        "        'lstm_2_init_period': 60,\n",
        "    }\n",
        ")\n",
        "\n",
        "trainer_config = dict(\n",
        "    class_ref=Unreal,\n",
        "    kwargs=dict(\n",
        "        opt_learn_rate=[1e-4, 1e-4], # random log-uniform \n",
        "        opt_end_learn_rate=1e-5,\n",
        "        opt_decay_steps=50*10**6,\n",
        "        model_gamma=0.99,\n",
        "        model_gae_lambda=1.0,\n",
        "        model_beta=0.05, # entropy reg\n",
        "        rollout_length=20,\n",
        "        time_flat=True, \n",
        "        use_value_replay=False, \n",
        "        model_summary_freq=10,\n",
        "        episode_summary_freq=1,\n",
        "        env_render_freq=2,\n",
        "    )\n",
        ")"
      ],
      "execution_count": 36,
      "outputs": [
        {
          "output_type": "stream",
          "text": [
            "BTgymDataset class is DEPRECATED, use btgym.datafeed.derivative.BTgymDataset2 instead.\n"
          ],
          "name": "stdout"
        }
      ]
    },
    {
      "cell_type": "code",
      "metadata": {
        "scrolled": true,
        "id": "7qlLzud5pxSs",
        "colab_type": "code",
        "outputId": "5a9d2cff-a987-4464-8735-27dc4d3b91fe",
        "colab": {
          "base_uri": "https://localhost:8080/",
          "height": 1000
        }
      },
      "source": [
        "launcher = Launcher(\n",
        "    cluster_config=cluster_config,\n",
        "    env_config=env_config,\n",
        "    trainer_config=trainer_config,\n",
        "    policy_config=policy_config,\n",
        "    test_mode=False,\n",
        "    #render_enabled=True,\n",
        "    #render_last_env=True,\n",
        "    max_env_steps=1*10**5,\n",
        "    save_secs=300,  # save checkpoint every N seconds (default is 600)\n",
        "    root_random_seed=0,\n",
        "    verbose=0\n",
        ")\n",
        "\n",
        "# Train it:\n",
        "launcher.run()"
      ],
      "execution_count": 37,
      "outputs": [
        {
          "output_type": "stream",
          "text": [
            "</root/tmp/test_4_11> already exists. Override[y/n]? n\n",
            "[2020-04-19 22:24:54.631065] NOTICE: UNREAL_0: learn_rate: 0.000100, entropy_beta: 0.050000\n",
            "\n",
            "********************************************************************************************\n",
            "**  Press `Ctrl-C` or jupyter:[Kernel]->[Interrupt] to stop training and close launcher.  **\n",
            "********************************************************************************************\n",
            "\n",
            "[2020-04-19 22:24:58.860152] NOTICE: UNREAL_3: learn_rate: 0.000100, entropy_beta: 0.050000\n",
            "[2020-04-19 22:24:58.874469] NOTICE: UNREAL_1: learn_rate: 0.000100, entropy_beta: 0.050000\n",
            "[2020-04-19 22:24:58.881125] NOTICE: UNREAL_2: learn_rate: 0.000100, entropy_beta: 0.050000\n",
            "[2020-04-19 22:25:05.464519] NOTICE: Worker_0: initializing all parameters...\n",
            "INFO:tensorflow:Restoring parameters from /root/tmp/pre_trained_model/test_4_11/model_parameters-46760\n",
            "[2020-04-19 22:25:11.668110] NOTICE: BTgymDataServer_0: Initial global_time set to: 2017-01-01 00:00:00 / stamp: 1483228800.0\n",
            "[2020-04-19 22:25:11.803866] NOTICE: Worker_0: started training at step: 0\n",
            "[2020-04-19 22:25:17.030532] NOTICE: Worker_3: initializing all parameters...\n",
            "[2020-04-19 22:25:17.288110] NOTICE: Worker_1: initializing all parameters...\n",
            "[2020-04-19 22:25:17.384537] NOTICE: Worker_2: initializing all parameters...\n",
            "INFO:tensorflow:Restoring parameters from /root/tmp/pre_trained_model/test_4_11/model_parameters-46760\n",
            "INFO:tensorflow:Restoring parameters from /root/tmp/pre_trained_model/test_4_11/model_parameters-46760\n",
            "INFO:tensorflow:Restoring parameters from /root/tmp/pre_trained_model/test_4_11/model_parameters-46760\n",
            "[2020-04-19 22:25:24.321301] NOTICE: Worker_2: started training at step: 120\n",
            "[2020-04-19 22:25:24.604609] NOTICE: Worker_3: started training at step: 120\n",
            "[2020-04-19 22:25:24.683918] NOTICE: Worker_1: started training at step: 120\n",
            "[2020-04-19 22:30:19.137708] NOTICE: Worker_0: env. step: 22497; cluster speed: 73 step/sec; checkpoint saved.\n",
            "[2020-04-19 22:35:22.980229] NOTICE: Worker_0: env. step: 46000; cluster speed: 77 step/sec; checkpoint saved.\n",
            "[2020-04-19 22:40:23.430504] NOTICE: Worker_0: env. step: 68827; cluster speed: 76 step/sec; checkpoint saved.\n",
            "[2020-04-19 22:45:24.308220] NOTICE: Worker_0: env. step: 91872; cluster speed: 76 step/sec; checkpoint saved.\n",
            "Attempted to use a closed Session.\n",
            "[2020-04-19 22:47:09.789424] ERROR: ThreadRunner_3: Attempted to use a closed Session.\n",
            "Traceback (most recent call last):\n",
            "  File \"/content/btgym/btgym/algorithms/runner/base.py\", line 118, in BaseEnvRunnerFn\n",
            "    last_reward[None, ...]\n",
            "  File \"/content/btgym/btgym/algorithms/policy/base.py\", line 339, in act\n",
            "    raise e\n",
            "  File \"/content/btgym/btgym/algorithms/policy/base.py\", line 308, in act\n",
            "    logits, value, context = sess.run([self.on_logits, self.on_vf, self.on_lstm_state_out], feeder)\n",
            "  File \"/usr/local/lib/python3.6/dist-packages/tensorflow/python/client/session.py\", line 895, in run\n",
            "    run_metadata_ptr)\n",
            "  File \"/usr/local/lib/python3.6/dist-packages/tensorflow/python/client/session.py\", line 1053, in _run\n",
            "    raise RuntimeError('Attempted to use a closed Session.')\n",
            "RuntimeError: Attempted to use a closed Session.\n",
            "[2020-04-19 22:47:09.811547] ERROR: ThreadRunner_3: RunTime exception occurred.\n",
            "\n",
            "Press `Ctrl-C` or jupyter:[Kernel]->[Interrupt] for clean exit.\n",
            "\n",
            "Traceback (most recent call last):\n",
            "  File \"/content/btgym/btgym/algorithms/runner/threadrunner.py\", line 92, in run\n",
            "    self._run()\n",
            "  File \"/content/btgym/btgym/algorithms/runner/threadrunner.py\", line 119, in _run\n",
            "    self.queue.put(next(rollout_provider), timeout=600.0)\n",
            "  File \"/content/btgym/btgym/algorithms/runner/base.py\", line 315, in BaseEnvRunnerFn\n",
            "    raise e\n",
            "  File \"/content/btgym/btgym/algorithms/runner/base.py\", line 118, in BaseEnvRunnerFn\n",
            "    last_reward[None, ...]\n",
            "  File \"/content/btgym/btgym/algorithms/policy/base.py\", line 339, in act\n",
            "    raise e\n",
            "  File \"/content/btgym/btgym/algorithms/policy/base.py\", line 308, in act\n",
            "    logits, value, context = sess.run([self.on_logits, self.on_vf, self.on_lstm_state_out], feeder)\n",
            "  File \"/usr/local/lib/python3.6/dist-packages/tensorflow/python/client/session.py\", line 895, in run\n",
            "    run_metadata_ptr)\n",
            "  File \"/usr/local/lib/python3.6/dist-packages/tensorflow/python/client/session.py\", line 1053, in _run\n",
            "    raise RuntimeError('Attempted to use a closed Session.')\n",
            "RuntimeError: Attempted to use a closed Session.\n",
            "Attempted to use a closed Session.\n"
          ],
          "name": "stdout"
        },
        {
          "output_type": "stream",
          "text": [
            "Exception in thread Thread-5:\n",
            "Traceback (most recent call last):\n",
            "  File \"/content/btgym/btgym/algorithms/runner/threadrunner.py\", line 92, in run\n",
            "    self._run()\n",
            "  File \"/content/btgym/btgym/algorithms/runner/threadrunner.py\", line 119, in _run\n",
            "    self.queue.put(next(rollout_provider), timeout=600.0)\n",
            "  File \"/content/btgym/btgym/algorithms/runner/base.py\", line 315, in BaseEnvRunnerFn\n",
            "    raise e\n",
            "  File \"/content/btgym/btgym/algorithms/runner/base.py\", line 118, in BaseEnvRunnerFn\n",
            "    last_reward[None, ...]\n",
            "  File \"/content/btgym/btgym/algorithms/policy/base.py\", line 339, in act\n",
            "    raise e\n",
            "  File \"/content/btgym/btgym/algorithms/policy/base.py\", line 308, in act\n",
            "    logits, value, context = sess.run([self.on_logits, self.on_vf, self.on_lstm_state_out], feeder)\n",
            "  File \"/usr/local/lib/python3.6/dist-packages/tensorflow/python/client/session.py\", line 895, in run\n",
            "    run_metadata_ptr)\n",
            "  File \"/usr/local/lib/python3.6/dist-packages/tensorflow/python/client/session.py\", line 1053, in _run\n",
            "    raise RuntimeError('Attempted to use a closed Session.')\n",
            "RuntimeError: Attempted to use a closed Session.\n",
            "\n",
            "During handling of the above exception, another exception occurred:\n",
            "\n",
            "Traceback (most recent call last):\n",
            "  File \"/usr/lib/python3.6/threading.py\", line 916, in _bootstrap_inner\n",
            "    self.run()\n",
            "  File \"/content/btgym/btgym/algorithms/runner/threadrunner.py\", line 97, in run\n",
            "    raise RuntimeError\n",
            "RuntimeError\n"
          ],
          "name": "stderr"
        },
        {
          "output_type": "stream",
          "text": [
            "[2020-04-19 22:47:09.828253] ERROR: ThreadRunner_1: Attempted to use a closed Session.\n",
            "Traceback (most recent call last):\n",
            "  File \"/content/btgym/btgym/algorithms/runner/base.py\", line 118, in BaseEnvRunnerFn\n",
            "    last_reward[None, ...]\n",
            "  File \"/content/btgym/btgym/algorithms/policy/base.py\", line 339, in act\n",
            "    raise e\n",
            "  File \"/content/btgym/btgym/algorithms/policy/base.py\", line 308, in act\n",
            "    logits, value, context = sess.run([self.on_logits, self.on_vf, self.on_lstm_state_out], feeder)\n",
            "  File \"/usr/local/lib/python3.6/dist-packages/tensorflow/python/client/session.py\", line 895, in run\n",
            "    run_metadata_ptr)\n",
            "  File \"/usr/local/lib/python3.6/dist-packages/tensorflow/python/client/session.py\", line 1053, in _run\n",
            "    raise RuntimeError('Attempted to use a closed Session.')\n",
            "RuntimeError: Attempted to use a closed Session.\n"
          ],
          "name": "stdout"
        },
        {
          "output_type": "stream",
          "text": [
            "\n"
          ],
          "name": "stderr"
        },
        {
          "output_type": "stream",
          "text": [
            "[2020-04-19 22:47:09.840833] ERROR: ThreadRunner_1: RunTime exception occurred.\n",
            "\n",
            "Press `Ctrl-C` or jupyter:[Kernel]->[Interrupt] for clean exit.\n",
            "\n",
            "Traceback (most recent call last):\n",
            "  File \"/content/btgym/btgym/algorithms/runner/threadrunner.py\", line 92, in run\n",
            "    self._run()\n",
            "  File \"/content/btgym/btgym/algorithms/runner/threadrunner.py\", line 119, in _run\n",
            "    self.queue.put(next(rollout_provider), timeout=600.0)\n",
            "  File \"/content/btgym/btgym/algorithms/runner/base.py\", line 315, in BaseEnvRunnerFn\n",
            "    raise e\n",
            "  File \"/content/btgym/btgym/algorithms/runner/base.py\", line 118, in BaseEnvRunnerFn\n",
            "    last_reward[None, ...]\n",
            "  File \"/content/btgym/btgym/algorithms/policy/base.py\", line 339, in act\n",
            "    raise e\n",
            "  File \"/content/btgym/btgym/algorithms/policy/base.py\", line 308, in act\n",
            "    logits, value, context = sess.run([self.on_logits, self.on_vf, self.on_lstm_state_out], feeder)\n",
            "  File \"/usr/local/lib/python3.6/dist-packages/tensorflow/python/client/session.py\", line 895, in run\n",
            "    run_metadata_ptr)\n",
            "  File \"/usr/local/lib/python3.6/dist-packages/tensorflow/python/client/session.py\", line 1053, in _run\n",
            "    raise RuntimeError('Attempted to use a closed Session.')\n",
            "RuntimeError: Attempted to use a closed Session.\n"
          ],
          "name": "stdout"
        },
        {
          "output_type": "stream",
          "text": [
            "Exception in thread Thread-5:\n",
            "Traceback (most recent call last):\n",
            "  File \"/content/btgym/btgym/algorithms/runner/threadrunner.py\", line 92, in run\n",
            "    self._run()\n",
            "  File \"/content/btgym/btgym/algorithms/runner/threadrunner.py\", line 119, in _run\n",
            "    self.queue.put(next(rollout_provider), timeout=600.0)\n",
            "  File \"/content/btgym/btgym/algorithms/runner/base.py\", line 315, in BaseEnvRunnerFn\n",
            "    raise e\n",
            "  File \"/content/btgym/btgym/algorithms/runner/base.py\", line 118, in BaseEnvRunnerFn\n",
            "    last_reward[None, ...]\n",
            "  File \"/content/btgym/btgym/algorithms/policy/base.py\", line 339, in act\n",
            "    raise e\n",
            "  File \"/content/btgym/btgym/algorithms/policy/base.py\", line 308, in act\n",
            "    logits, value, context = sess.run([self.on_logits, self.on_vf, self.on_lstm_state_out], feeder)\n",
            "  File \"/usr/local/lib/python3.6/dist-packages/tensorflow/python/client/session.py\", line 895, in run\n",
            "    run_metadata_ptr)\n",
            "  File \"/usr/local/lib/python3.6/dist-packages/tensorflow/python/client/session.py\", line 1053, in _run\n",
            "    raise RuntimeError('Attempted to use a closed Session.')\n",
            "RuntimeError: Attempted to use a closed Session.\n",
            "\n",
            "During handling of the above exception, another exception occurred:\n",
            "\n",
            "Traceback (most recent call last):\n",
            "  File \"/usr/lib/python3.6/threading.py\", line 916, in _bootstrap_inner\n",
            "    self.run()\n",
            "  File \"/content/btgym/btgym/algorithms/runner/threadrunner.py\", line 97, in run\n",
            "    raise RuntimeError\n",
            "RuntimeError\n",
            "\n"
          ],
          "name": "stderr"
        },
        {
          "output_type": "stream",
          "text": [
            "Attempted to use a closed Session.\n",
            "[2020-04-19 22:47:10.262155] ERROR: ThreadRunner_2: Attempted to use a closed Session.\n",
            "Traceback (most recent call last):\n",
            "  File \"/content/btgym/btgym/algorithms/runner/base.py\", line 118, in BaseEnvRunnerFn\n",
            "    last_reward[None, ...]\n",
            "  File \"/content/btgym/btgym/algorithms/policy/base.py\", line 339, in act\n",
            "    raise e\n",
            "  File \"/content/btgym/btgym/algorithms/policy/base.py\", line 308, in act\n",
            "    logits, value, context = sess.run([self.on_logits, self.on_vf, self.on_lstm_state_out], feeder)\n",
            "  File \"/usr/local/lib/python3.6/dist-packages/tensorflow/python/client/session.py\", line 895, in run\n",
            "    run_metadata_ptr)\n",
            "  File \"/usr/local/lib/python3.6/dist-packages/tensorflow/python/client/session.py\", line 1053, in _run\n",
            "    raise RuntimeError('Attempted to use a closed Session.')\n",
            "RuntimeError: Attempted to use a closed Session.\n",
            "[2020-04-19 22:47:10.273061] ERROR: ThreadRunner_2: RunTime exception occurred.\n",
            "\n",
            "Press `Ctrl-C` or jupyter:[Kernel]->[Interrupt] for clean exit.\n",
            "\n",
            "Traceback (most recent call last):\n",
            "  File \"/content/btgym/btgym/algorithms/runner/threadrunner.py\", line 92, in run\n",
            "    self._run()\n",
            "  File \"/content/btgym/btgym/algorithms/runner/threadrunner.py\", line 119, in _run\n",
            "    self.queue.put(next(rollout_provider), timeout=600.0)\n",
            "  File \"/content/btgym/btgym/algorithms/runner/base.py\", line 315, in BaseEnvRunnerFn\n",
            "    raise e\n",
            "  File \"/content/btgym/btgym/algorithms/runner/base.py\", line 118, in BaseEnvRunnerFn\n",
            "    last_reward[None, ...]\n",
            "  File \"/content/btgym/btgym/algorithms/policy/base.py\", line 339, in act\n",
            "    raise e\n",
            "  File \"/content/btgym/btgym/algorithms/policy/base.py\", line 308, in act\n",
            "    logits, value, context = sess.run([self.on_logits, self.on_vf, self.on_lstm_state_out], feeder)\n",
            "  File \"/usr/local/lib/python3.6/dist-packages/tensorflow/python/client/session.py\", line 895, in run\n",
            "    run_metadata_ptr)\n",
            "  File \"/usr/local/lib/python3.6/dist-packages/tensorflow/python/client/session.py\", line 1053, in _run\n",
            "    raise RuntimeError('Attempted to use a closed Session.')\n",
            "RuntimeError: Attempted to use a closed Session.\n"
          ],
          "name": "stdout"
        },
        {
          "output_type": "stream",
          "text": [
            "Exception in thread Thread-5:\n",
            "Traceback (most recent call last):\n",
            "  File \"/content/btgym/btgym/algorithms/runner/threadrunner.py\", line 92, in run\n",
            "    self._run()\n",
            "  File \"/content/btgym/btgym/algorithms/runner/threadrunner.py\", line 119, in _run\n",
            "    self.queue.put(next(rollout_provider), timeout=600.0)\n",
            "  File \"/content/btgym/btgym/algorithms/runner/base.py\", line 315, in BaseEnvRunnerFn\n",
            "    raise e\n",
            "  File \"/content/btgym/btgym/algorithms/runner/base.py\", line 118, in BaseEnvRunnerFn\n",
            "    last_reward[None, ...]\n",
            "  File \"/content/btgym/btgym/algorithms/policy/base.py\", line 339, in act\n",
            "    raise e\n",
            "  File \"/content/btgym/btgym/algorithms/policy/base.py\", line 308, in act\n",
            "    logits, value, context = sess.run([self.on_logits, self.on_vf, self.on_lstm_state_out], feeder)\n",
            "  File \"/usr/local/lib/python3.6/dist-packages/tensorflow/python/client/session.py\", line 895, in run\n",
            "    run_metadata_ptr)\n",
            "  File \"/usr/local/lib/python3.6/dist-packages/tensorflow/python/client/session.py\", line 1053, in _run\n",
            "    raise RuntimeError('Attempted to use a closed Session.')\n",
            "RuntimeError: Attempted to use a closed Session.\n",
            "\n",
            "During handling of the above exception, another exception occurred:\n",
            "\n",
            "Traceback (most recent call last):\n",
            "  File \"/usr/lib/python3.6/threading.py\", line 916, in _bootstrap_inner\n",
            "    self.run()\n",
            "  File \"/content/btgym/btgym/algorithms/runner/threadrunner.py\", line 97, in run\n",
            "    raise RuntimeError\n",
            "RuntimeError\n",
            "\n"
          ],
          "name": "stderr"
        },
        {
          "output_type": "stream",
          "text": [
            "[2020-04-19 22:47:10.622858] NOTICE: Worker_3: reached 100025 steps, exiting.\n",
            "[2020-04-19 22:47:10.669454] NOTICE: Worker_1: reached 100025 steps, exiting.\n",
            "[2020-04-19 22:47:10.841570] NOTICE: Worker_2: reached 100045 steps, exiting.\n",
            "Attempted to use a closed Session.\n",
            "[2020-04-19 22:47:12.236014] ERROR: ThreadRunner_0: Attempted to use a closed Session.\n",
            "Traceback (most recent call last):\n",
            "  File \"/content/btgym/btgym/algorithms/runner/base.py\", line 118, in BaseEnvRunnerFn\n",
            "    last_reward[None, ...]\n",
            "  File \"/content/btgym/btgym/algorithms/policy/base.py\", line 339, in act\n",
            "    raise e\n",
            "  File \"/content/btgym/btgym/algorithms/policy/base.py\", line 308, in act\n",
            "    logits, value, context = sess.run([self.on_logits, self.on_vf, self.on_lstm_state_out], feeder)\n",
            "  File \"/usr/local/lib/python3.6/dist-packages/tensorflow/python/client/session.py\", line 895, in run\n",
            "    run_metadata_ptr)\n",
            "  File \"/usr/local/lib/python3.6/dist-packages/tensorflow/python/client/session.py\", line 1053, in _run\n",
            "    raise RuntimeError('Attempted to use a closed Session.')\n",
            "RuntimeError: Attempted to use a closed Session.\n",
            "[2020-04-19 22:47:12.251841] ERROR: ThreadRunner_0: RunTime exception occurred.\n",
            "\n",
            "Press `Ctrl-C` or jupyter:[Kernel]->[Interrupt] for clean exit.\n",
            "\n",
            "Traceback (most recent call last):\n",
            "  File \"/content/btgym/btgym/algorithms/runner/threadrunner.py\", line 92, in run\n",
            "    self._run()\n",
            "  File \"/content/btgym/btgym/algorithms/runner/threadrunner.py\", line 119, in _run\n",
            "    self.queue.put(next(rollout_provider), timeout=600.0)\n",
            "  File \"/content/btgym/btgym/algorithms/runner/base.py\", line 315, in BaseEnvRunnerFn\n",
            "    raise e\n",
            "  File \"/content/btgym/btgym/algorithms/runner/base.py\", line 118, in BaseEnvRunnerFn\n",
            "    last_reward[None, ...]\n",
            "  File \"/content/btgym/btgym/algorithms/policy/base.py\", line 339, in act\n",
            "    raise e\n",
            "  File \"/content/btgym/btgym/algorithms/policy/base.py\", line 308, in act\n",
            "    logits, value, context = sess.run([self.on_logits, self.on_vf, self.on_lstm_state_out], feeder)\n",
            "  File \"/usr/local/lib/python3.6/dist-packages/tensorflow/python/client/session.py\", line 895, in run\n",
            "    run_metadata_ptr)\n",
            "  File \"/usr/local/lib/python3.6/dist-packages/tensorflow/python/client/session.py\", line 1053, in _run\n",
            "    raise RuntimeError('Attempted to use a closed Session.')\n",
            "RuntimeError: Attempted to use a closed Session.\n"
          ],
          "name": "stdout"
        },
        {
          "output_type": "stream",
          "text": [
            "Exception in thread Thread-5:\n",
            "Traceback (most recent call last):\n",
            "  File \"/content/btgym/btgym/algorithms/runner/threadrunner.py\", line 92, in run\n",
            "    self._run()\n",
            "  File \"/content/btgym/btgym/algorithms/runner/threadrunner.py\", line 119, in _run\n",
            "    self.queue.put(next(rollout_provider), timeout=600.0)\n",
            "  File \"/content/btgym/btgym/algorithms/runner/base.py\", line 315, in BaseEnvRunnerFn\n",
            "    raise e\n",
            "  File \"/content/btgym/btgym/algorithms/runner/base.py\", line 118, in BaseEnvRunnerFn\n",
            "    last_reward[None, ...]\n",
            "  File \"/content/btgym/btgym/algorithms/policy/base.py\", line 339, in act\n",
            "    raise e\n",
            "  File \"/content/btgym/btgym/algorithms/policy/base.py\", line 308, in act\n",
            "    logits, value, context = sess.run([self.on_logits, self.on_vf, self.on_lstm_state_out], feeder)\n",
            "  File \"/usr/local/lib/python3.6/dist-packages/tensorflow/python/client/session.py\", line 895, in run\n",
            "    run_metadata_ptr)\n",
            "  File \"/usr/local/lib/python3.6/dist-packages/tensorflow/python/client/session.py\", line 1053, in _run\n",
            "    raise RuntimeError('Attempted to use a closed Session.')\n",
            "RuntimeError: Attempted to use a closed Session.\n",
            "\n",
            "During handling of the above exception, another exception occurred:\n",
            "\n",
            "Traceback (most recent call last):\n",
            "  File \"/usr/lib/python3.6/threading.py\", line 916, in _bootstrap_inner\n",
            "    self.run()\n",
            "  File \"/content/btgym/btgym/algorithms/runner/threadrunner.py\", line 97, in run\n",
            "    raise RuntimeError\n",
            "RuntimeError\n",
            "\n"
          ],
          "name": "stderr"
        },
        {
          "output_type": "stream",
          "text": [
            "[2020-04-19 22:47:13.837105] NOTICE: Worker_0: reached 100053 steps, exiting.\n",
            "[2020-04-19 23:25:39.186015] NOTICE: LauncherShell: worker_1 has joined.\n",
            "[2020-04-19 23:25:39.189141] NOTICE: LauncherShell: worker_2 has joined.\n",
            "[2020-04-19 23:25:39.190139] NOTICE: LauncherShell: worker_3 has joined.\n",
            "[2020-04-19 23:25:39.191139] NOTICE: LauncherShell: chief_worker_0 has joined.\n",
            "[2020-04-19 23:25:39.202488] NOTICE: LauncherShell: parameter_server_0 has joined.\n",
            "[2020-04-19 23:25:39.203612] NOTICE: LauncherShell: Launcher closed.\n"
          ],
          "name": "stdout"
        }
      ]
    },
    {
      "cell_type": "code",
      "metadata": {
        "id": "K5v8UvnOpxSx",
        "colab_type": "code",
        "outputId": "f01f07f8-bcb9-4ccd-aaed-19e921a4163e",
        "colab": {
          "base_uri": "https://localhost:8080/",
          "height": 51
        }
      },
      "source": [
        "# Save, restore or resume:\n",
        "\n",
        "# Use launcher.export_checkpoint() method to save most recent trained model parameters to external directory; \n",
        "# one can load it as pre-trained model for next run via cluster_gongig -> initial_ckpt_dir arg, (see above).\n",
        "#\n",
        "# Note: \n",
        "# 1. when loading pre-trained model, training is started at global_step=0 unlike\n",
        "#    restoring from current checkpoint, when training resumes from last saved global_step value;\n",
        "# 2. answering Yes to Launcher's `Override[y/n]?` affects log_dir content only;\n",
        "# 3. launcher now got 'save_secs' arg, cpecifying how often checkpoints\n",
        "#    should be written. Default value is 600;\n",
        "# 4. exporting checkpoint overrides content of destination folder.\n",
        "#\n",
        "# Launcher starting routine:\n",
        "# 1. if initial_ckpt_dir is given - try to load pre-trained model and start at step=0 if succeeded;\n",
        "# 2. if failed - look for routinely saved checkpoint and if succeeded - resume training at step found in that point;\n",
        "# 3. if that fails - start training from scratch.\n",
        "\n",
        "launcher.export_checkpoint(os.path.expanduser('~/tmp/pre_trained_model/test_4_11'))"
      ],
      "execution_count": 38,
      "outputs": [
        {
          "output_type": "stream",
          "text": [
            "[2020-04-19 23:25:47.212239] NOTICE: LauncherShell: target dir purged.\n",
            "[2020-04-19 23:25:47.224447] NOTICE: LauncherShell: copied to: /root/tmp/pre_trained_model/test_4_11\n"
          ],
          "name": "stdout"
        }
      ]
    },
    {
      "cell_type": "code",
      "metadata": {
        "id": "Ccx_a0WSpxS4",
        "colab_type": "code",
        "colab": {
          "base_uri": "https://localhost:8080/",
          "height": 316
        },
        "outputId": "1add39d5-a9e2-46eb-adc3-ac394b1a593a"
      },
      "source": [
        "def show_rendered_image(rgb_array):\n",
        "    \"\"\"\n",
        "    Convert numpy array to RGB image using PILLOW and\n",
        "    show it inline using IPykernel.\n",
        "    \"\"\"\n",
        "    Display.display(Image.fromarray(rgb_array))\n",
        "\n",
        "def render_all_modes(env):\n",
        "    \"\"\"\n",
        "    Retrieve and show environment renderings\n",
        "    for all supported modes.\n",
        "    \"\"\"\n",
        "    for mode in env.render_modes:\n",
        "        print('[{}] mode:'.format(mode))\n",
        "        show_rendered_image(env.render(mode))\n",
        "\n",
        "render_all_modes(env_config)"
      ],
      "execution_count": 39,
      "outputs": [
        {
          "output_type": "error",
          "ename": "AttributeError",
          "evalue": "ignored",
          "traceback": [
            "\u001b[0;31m---------------------------------------------------------------------------\u001b[0m",
            "\u001b[0;31mAttributeError\u001b[0m                            Traceback (most recent call last)",
            "\u001b[0;32m<ipython-input-39-f650811c0356>\u001b[0m in \u001b[0;36m<module>\u001b[0;34m()\u001b[0m\n\u001b[1;32m     15\u001b[0m         \u001b[0mshow_rendered_image\u001b[0m\u001b[0;34m(\u001b[0m\u001b[0menv\u001b[0m\u001b[0;34m.\u001b[0m\u001b[0mrender\u001b[0m\u001b[0;34m(\u001b[0m\u001b[0mmode\u001b[0m\u001b[0;34m)\u001b[0m\u001b[0;34m)\u001b[0m\u001b[0;34m\u001b[0m\u001b[0;34m\u001b[0m\u001b[0m\n\u001b[1;32m     16\u001b[0m \u001b[0;34m\u001b[0m\u001b[0m\n\u001b[0;32m---> 17\u001b[0;31m \u001b[0mrender_all_modes\u001b[0m\u001b[0;34m(\u001b[0m\u001b[0menv_config\u001b[0m\u001b[0;34m)\u001b[0m\u001b[0;34m\u001b[0m\u001b[0;34m\u001b[0m\u001b[0m\n\u001b[0m",
            "\u001b[0;32m<ipython-input-39-f650811c0356>\u001b[0m in \u001b[0;36mrender_all_modes\u001b[0;34m(env)\u001b[0m\n\u001b[1;32m     11\u001b[0m     \u001b[0;32mfor\u001b[0m \u001b[0mall\u001b[0m \u001b[0msupported\u001b[0m \u001b[0mmodes\u001b[0m\u001b[0;34m.\u001b[0m\u001b[0;34m\u001b[0m\u001b[0;34m\u001b[0m\u001b[0m\n\u001b[1;32m     12\u001b[0m     \"\"\"\n\u001b[0;32m---> 13\u001b[0;31m     \u001b[0;32mfor\u001b[0m \u001b[0mmode\u001b[0m \u001b[0;32min\u001b[0m \u001b[0menv\u001b[0m\u001b[0;34m.\u001b[0m\u001b[0mrender_modes\u001b[0m\u001b[0;34m:\u001b[0m\u001b[0;34m\u001b[0m\u001b[0;34m\u001b[0m\u001b[0m\n\u001b[0m\u001b[1;32m     14\u001b[0m         \u001b[0mprint\u001b[0m\u001b[0;34m(\u001b[0m\u001b[0;34m'[{}] mode:'\u001b[0m\u001b[0;34m.\u001b[0m\u001b[0mformat\u001b[0m\u001b[0;34m(\u001b[0m\u001b[0mmode\u001b[0m\u001b[0;34m)\u001b[0m\u001b[0;34m)\u001b[0m\u001b[0;34m\u001b[0m\u001b[0;34m\u001b[0m\u001b[0m\n\u001b[1;32m     15\u001b[0m         \u001b[0mshow_rendered_image\u001b[0m\u001b[0;34m(\u001b[0m\u001b[0menv\u001b[0m\u001b[0;34m.\u001b[0m\u001b[0mrender\u001b[0m\u001b[0;34m(\u001b[0m\u001b[0mmode\u001b[0m\u001b[0;34m)\u001b[0m\u001b[0;34m)\u001b[0m\u001b[0;34m\u001b[0m\u001b[0;34m\u001b[0m\u001b[0m\n",
            "\u001b[0;31mAttributeError\u001b[0m: 'dict' object has no attribute 'render_modes'"
          ]
        }
      ]
    },
    {
      "cell_type": "code",
      "metadata": {
        "id": "5G1h_rlEX8OO",
        "colab_type": "code",
        "colab": {
          "base_uri": "https://localhost:8080/",
          "height": 163
        },
        "outputId": "10f85cae-1544-416e-91f8-50ff77e35a2d"
      },
      "source": [
        "render('episode')"
      ],
      "execution_count": 41,
      "outputs": [
        {
          "output_type": "error",
          "ename": "NameError",
          "evalue": "ignored",
          "traceback": [
            "\u001b[0;31m---------------------------------------------------------------------------\u001b[0m",
            "\u001b[0;31mNameError\u001b[0m                                 Traceback (most recent call last)",
            "\u001b[0;32m<ipython-input-41-d0c5d9437aee>\u001b[0m in \u001b[0;36m<module>\u001b[0;34m()\u001b[0m\n\u001b[0;32m----> 1\u001b[0;31m \u001b[0mrender\u001b[0m\u001b[0;34m(\u001b[0m\u001b[0;34m'episode'\u001b[0m\u001b[0;34m)\u001b[0m\u001b[0;34m\u001b[0m\u001b[0;34m\u001b[0m\u001b[0m\n\u001b[0m",
            "\u001b[0;31mNameError\u001b[0m: name 'render' is not defined"
          ]
        }
      ]
    }
  ]
}